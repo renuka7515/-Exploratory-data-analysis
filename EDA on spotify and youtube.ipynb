{
 "cells": [
  {
   "cell_type": "code",
   "execution_count": 47,
   "id": "b6a10e31",
   "metadata": {},
   "outputs": [],
   "source": [
    "import numpy as np\n",
    "import pandas as pd \n",
    "import matplotlib.pyplot as plt\n",
    "import seaborn as sns"
   ]
  },
  {
   "cell_type": "code",
   "execution_count": 48,
   "id": "29158d08",
   "metadata": {},
   "outputs": [],
   "source": [
    "data=pd.read_csv(r\"C:\\Users\\India\\Music\\Spotify_Youtube.csv\")"
   ]
  },
  {
   "cell_type": "code",
   "execution_count": 49,
   "id": "33850c22",
   "metadata": {},
   "outputs": [],
   "source": [
    "data_copy=data.copy()"
   ]
  },
  {
   "cell_type": "code",
   "execution_count": 50,
   "id": "54089871",
   "metadata": {},
   "outputs": [
    {
     "data": {
      "text/html": [
       "<div>\n",
       "<style scoped>\n",
       "    .dataframe tbody tr th:only-of-type {\n",
       "        vertical-align: middle;\n",
       "    }\n",
       "\n",
       "    .dataframe tbody tr th {\n",
       "        vertical-align: top;\n",
       "    }\n",
       "\n",
       "    .dataframe thead th {\n",
       "        text-align: right;\n",
       "    }\n",
       "</style>\n",
       "<table border=\"1\" class=\"dataframe\">\n",
       "  <thead>\n",
       "    <tr style=\"text-align: right;\">\n",
       "      <th></th>\n",
       "      <th>Unnamed: 0</th>\n",
       "      <th>Artist</th>\n",
       "      <th>Url_spotify</th>\n",
       "      <th>Track</th>\n",
       "      <th>Album</th>\n",
       "      <th>Album_type</th>\n",
       "      <th>Uri</th>\n",
       "      <th>Danceability</th>\n",
       "      <th>Energy</th>\n",
       "      <th>Key</th>\n",
       "      <th>Loudness</th>\n",
       "      <th>Speechiness</th>\n",
       "      <th>Acousticness</th>\n",
       "      <th>Instrumentalness</th>\n",
       "      <th>Liveness</th>\n",
       "      <th>Valence</th>\n",
       "      <th>Tempo</th>\n",
       "      <th>Duration_ms</th>\n",
       "      <th>Url_youtube</th>\n",
       "      <th>Title</th>\n",
       "      <th>Channel</th>\n",
       "      <th>Views</th>\n",
       "      <th>Likes</th>\n",
       "      <th>Comments</th>\n",
       "      <th>Description</th>\n",
       "      <th>Licensed</th>\n",
       "      <th>official_video</th>\n",
       "      <th>Stream</th>\n",
       "    </tr>\n",
       "  </thead>\n",
       "  <tbody>\n",
       "    <tr>\n",
       "      <th>0</th>\n",
       "      <td>0</td>\n",
       "      <td>Gorillaz</td>\n",
       "      <td>https://open.spotify.com/artist/3AA28KZvwAUcZu...</td>\n",
       "      <td>Feel Good Inc.</td>\n",
       "      <td>Demon Days</td>\n",
       "      <td>album</td>\n",
       "      <td>spotify:track:0d28khcov6AiegSCpG5TuT</td>\n",
       "      <td>0.818</td>\n",
       "      <td>0.705</td>\n",
       "      <td>6.0</td>\n",
       "      <td>-6.679</td>\n",
       "      <td>0.1770</td>\n",
       "      <td>0.00836</td>\n",
       "      <td>0.002330</td>\n",
       "      <td>0.6130</td>\n",
       "      <td>0.772</td>\n",
       "      <td>138.559</td>\n",
       "      <td>222640.0</td>\n",
       "      <td>https://www.youtube.com/watch?v=HyHNuVaZJ-k</td>\n",
       "      <td>Gorillaz - Feel Good Inc. (Official Video)</td>\n",
       "      <td>Gorillaz</td>\n",
       "      <td>693555221.0</td>\n",
       "      <td>6220896.0</td>\n",
       "      <td>169907.0</td>\n",
       "      <td>Official HD Video for Gorillaz' fantastic trac...</td>\n",
       "      <td>True</td>\n",
       "      <td>True</td>\n",
       "      <td>1.040235e+09</td>\n",
       "    </tr>\n",
       "    <tr>\n",
       "      <th>1</th>\n",
       "      <td>1</td>\n",
       "      <td>Gorillaz</td>\n",
       "      <td>https://open.spotify.com/artist/3AA28KZvwAUcZu...</td>\n",
       "      <td>Rhinestone Eyes</td>\n",
       "      <td>Plastic Beach</td>\n",
       "      <td>album</td>\n",
       "      <td>spotify:track:1foMv2HQwfQ2vntFf9HFeG</td>\n",
       "      <td>0.676</td>\n",
       "      <td>0.703</td>\n",
       "      <td>8.0</td>\n",
       "      <td>-5.815</td>\n",
       "      <td>0.0302</td>\n",
       "      <td>0.08690</td>\n",
       "      <td>0.000687</td>\n",
       "      <td>0.0463</td>\n",
       "      <td>0.852</td>\n",
       "      <td>92.761</td>\n",
       "      <td>200173.0</td>\n",
       "      <td>https://www.youtube.com/watch?v=yYDmaexVHic</td>\n",
       "      <td>Gorillaz - Rhinestone Eyes [Storyboard Film] (...</td>\n",
       "      <td>Gorillaz</td>\n",
       "      <td>72011645.0</td>\n",
       "      <td>1079128.0</td>\n",
       "      <td>31003.0</td>\n",
       "      <td>The official video for Gorillaz - Rhinestone E...</td>\n",
       "      <td>True</td>\n",
       "      <td>True</td>\n",
       "      <td>3.100837e+08</td>\n",
       "    </tr>\n",
       "  </tbody>\n",
       "</table>\n",
       "</div>"
      ],
      "text/plain": [
       "   Unnamed: 0    Artist                                        Url_spotify  \\\n",
       "0           0  Gorillaz  https://open.spotify.com/artist/3AA28KZvwAUcZu...   \n",
       "1           1  Gorillaz  https://open.spotify.com/artist/3AA28KZvwAUcZu...   \n",
       "\n",
       "             Track          Album Album_type  \\\n",
       "0   Feel Good Inc.     Demon Days      album   \n",
       "1  Rhinestone Eyes  Plastic Beach      album   \n",
       "\n",
       "                                    Uri  Danceability  Energy  Key  Loudness  \\\n",
       "0  spotify:track:0d28khcov6AiegSCpG5TuT         0.818   0.705  6.0    -6.679   \n",
       "1  spotify:track:1foMv2HQwfQ2vntFf9HFeG         0.676   0.703  8.0    -5.815   \n",
       "\n",
       "   Speechiness  Acousticness  Instrumentalness  Liveness  Valence    Tempo  \\\n",
       "0       0.1770       0.00836          0.002330    0.6130    0.772  138.559   \n",
       "1       0.0302       0.08690          0.000687    0.0463    0.852   92.761   \n",
       "\n",
       "   Duration_ms                                  Url_youtube  \\\n",
       "0     222640.0  https://www.youtube.com/watch?v=HyHNuVaZJ-k   \n",
       "1     200173.0  https://www.youtube.com/watch?v=yYDmaexVHic   \n",
       "\n",
       "                                               Title   Channel        Views  \\\n",
       "0         Gorillaz - Feel Good Inc. (Official Video)  Gorillaz  693555221.0   \n",
       "1  Gorillaz - Rhinestone Eyes [Storyboard Film] (...  Gorillaz   72011645.0   \n",
       "\n",
       "       Likes  Comments                                        Description  \\\n",
       "0  6220896.0  169907.0  Official HD Video for Gorillaz' fantastic trac...   \n",
       "1  1079128.0   31003.0  The official video for Gorillaz - Rhinestone E...   \n",
       "\n",
       "  Licensed official_video        Stream  \n",
       "0     True           True  1.040235e+09  \n",
       "1     True           True  3.100837e+08  "
      ]
     },
     "execution_count": 50,
     "metadata": {},
     "output_type": "execute_result"
    }
   ],
   "source": [
    "pd.set_option(\"display.max_columns\", None)\n",
    "data_copy.head(2)"
   ]
  },
  {
   "cell_type": "code",
   "execution_count": 51,
   "id": "5dd0f4f2",
   "metadata": {},
   "outputs": [],
   "source": [
    "data_copy.drop(data_copy[['Unnamed: 0', 'Url_spotify', 'Uri', 'Url_youtube', 'Description', 'Title']], axis=1, inplace=True)"
   ]
  },
  {
   "cell_type": "code",
   "execution_count": 52,
   "id": "452ed08f",
   "metadata": {},
   "outputs": [
    {
     "data": {
      "text/plain": [
       "(20718, 22)"
      ]
     },
     "execution_count": 52,
     "metadata": {},
     "output_type": "execute_result"
    }
   ],
   "source": [
    "data_copy.shape"
   ]
  },
  {
   "cell_type": "code",
   "execution_count": 53,
   "id": "153d1801",
   "metadata": {},
   "outputs": [
    {
     "data": {
      "text/html": [
       "<div>\n",
       "<style scoped>\n",
       "    .dataframe tbody tr th:only-of-type {\n",
       "        vertical-align: middle;\n",
       "    }\n",
       "\n",
       "    .dataframe tbody tr th {\n",
       "        vertical-align: top;\n",
       "    }\n",
       "\n",
       "    .dataframe thead th {\n",
       "        text-align: right;\n",
       "    }\n",
       "</style>\n",
       "<table border=\"1\" class=\"dataframe\">\n",
       "  <thead>\n",
       "    <tr style=\"text-align: right;\">\n",
       "      <th></th>\n",
       "      <th>Artist</th>\n",
       "      <th>Track</th>\n",
       "      <th>Album</th>\n",
       "      <th>Album_type</th>\n",
       "      <th>Danceability</th>\n",
       "      <th>Energy</th>\n",
       "      <th>Key</th>\n",
       "      <th>Loudness</th>\n",
       "      <th>Speechiness</th>\n",
       "      <th>Acousticness</th>\n",
       "      <th>Instrumentalness</th>\n",
       "      <th>Liveness</th>\n",
       "      <th>Valence</th>\n",
       "      <th>Tempo</th>\n",
       "      <th>Duration_ms</th>\n",
       "      <th>Channel</th>\n",
       "      <th>Views</th>\n",
       "      <th>Likes</th>\n",
       "      <th>Comments</th>\n",
       "      <th>Licensed</th>\n",
       "      <th>official_video</th>\n",
       "      <th>Stream</th>\n",
       "    </tr>\n",
       "  </thead>\n",
       "  <tbody>\n",
       "    <tr>\n",
       "      <th>0</th>\n",
       "      <td>Gorillaz</td>\n",
       "      <td>Feel Good Inc.</td>\n",
       "      <td>Demon Days</td>\n",
       "      <td>album</td>\n",
       "      <td>0.818</td>\n",
       "      <td>0.705</td>\n",
       "      <td>6.0</td>\n",
       "      <td>-6.679</td>\n",
       "      <td>0.1770</td>\n",
       "      <td>0.008360</td>\n",
       "      <td>0.002330</td>\n",
       "      <td>0.6130</td>\n",
       "      <td>0.772</td>\n",
       "      <td>138.559</td>\n",
       "      <td>222640.0</td>\n",
       "      <td>Gorillaz</td>\n",
       "      <td>693555221.0</td>\n",
       "      <td>6220896.0</td>\n",
       "      <td>169907.0</td>\n",
       "      <td>True</td>\n",
       "      <td>True</td>\n",
       "      <td>1.040235e+09</td>\n",
       "    </tr>\n",
       "    <tr>\n",
       "      <th>1</th>\n",
       "      <td>Gorillaz</td>\n",
       "      <td>Rhinestone Eyes</td>\n",
       "      <td>Plastic Beach</td>\n",
       "      <td>album</td>\n",
       "      <td>0.676</td>\n",
       "      <td>0.703</td>\n",
       "      <td>8.0</td>\n",
       "      <td>-5.815</td>\n",
       "      <td>0.0302</td>\n",
       "      <td>0.086900</td>\n",
       "      <td>0.000687</td>\n",
       "      <td>0.0463</td>\n",
       "      <td>0.852</td>\n",
       "      <td>92.761</td>\n",
       "      <td>200173.0</td>\n",
       "      <td>Gorillaz</td>\n",
       "      <td>72011645.0</td>\n",
       "      <td>1079128.0</td>\n",
       "      <td>31003.0</td>\n",
       "      <td>True</td>\n",
       "      <td>True</td>\n",
       "      <td>3.100837e+08</td>\n",
       "    </tr>\n",
       "    <tr>\n",
       "      <th>2</th>\n",
       "      <td>Gorillaz</td>\n",
       "      <td>New Gold (feat. Tame Impala and Bootie Brown)</td>\n",
       "      <td>New Gold (feat. Tame Impala and Bootie Brown)</td>\n",
       "      <td>single</td>\n",
       "      <td>0.695</td>\n",
       "      <td>0.923</td>\n",
       "      <td>1.0</td>\n",
       "      <td>-3.930</td>\n",
       "      <td>0.0522</td>\n",
       "      <td>0.042500</td>\n",
       "      <td>0.046900</td>\n",
       "      <td>0.1160</td>\n",
       "      <td>0.551</td>\n",
       "      <td>108.014</td>\n",
       "      <td>215150.0</td>\n",
       "      <td>Gorillaz</td>\n",
       "      <td>8435055.0</td>\n",
       "      <td>282142.0</td>\n",
       "      <td>7399.0</td>\n",
       "      <td>True</td>\n",
       "      <td>True</td>\n",
       "      <td>6.306347e+07</td>\n",
       "    </tr>\n",
       "    <tr>\n",
       "      <th>3</th>\n",
       "      <td>Gorillaz</td>\n",
       "      <td>On Melancholy Hill</td>\n",
       "      <td>Plastic Beach</td>\n",
       "      <td>album</td>\n",
       "      <td>0.689</td>\n",
       "      <td>0.739</td>\n",
       "      <td>2.0</td>\n",
       "      <td>-5.810</td>\n",
       "      <td>0.0260</td>\n",
       "      <td>0.000015</td>\n",
       "      <td>0.509000</td>\n",
       "      <td>0.0640</td>\n",
       "      <td>0.578</td>\n",
       "      <td>120.423</td>\n",
       "      <td>233867.0</td>\n",
       "      <td>Gorillaz</td>\n",
       "      <td>211754952.0</td>\n",
       "      <td>1788577.0</td>\n",
       "      <td>55229.0</td>\n",
       "      <td>True</td>\n",
       "      <td>True</td>\n",
       "      <td>4.346636e+08</td>\n",
       "    </tr>\n",
       "    <tr>\n",
       "      <th>4</th>\n",
       "      <td>Gorillaz</td>\n",
       "      <td>Clint Eastwood</td>\n",
       "      <td>Gorillaz</td>\n",
       "      <td>album</td>\n",
       "      <td>0.663</td>\n",
       "      <td>0.694</td>\n",
       "      <td>10.0</td>\n",
       "      <td>-8.627</td>\n",
       "      <td>0.1710</td>\n",
       "      <td>0.025300</td>\n",
       "      <td>0.000000</td>\n",
       "      <td>0.0698</td>\n",
       "      <td>0.525</td>\n",
       "      <td>167.953</td>\n",
       "      <td>340920.0</td>\n",
       "      <td>Gorillaz</td>\n",
       "      <td>618480958.0</td>\n",
       "      <td>6197318.0</td>\n",
       "      <td>155930.0</td>\n",
       "      <td>True</td>\n",
       "      <td>True</td>\n",
       "      <td>6.172597e+08</td>\n",
       "    </tr>\n",
       "  </tbody>\n",
       "</table>\n",
       "</div>"
      ],
      "text/plain": [
       "     Artist                                          Track  \\\n",
       "0  Gorillaz                                 Feel Good Inc.   \n",
       "1  Gorillaz                                Rhinestone Eyes   \n",
       "2  Gorillaz  New Gold (feat. Tame Impala and Bootie Brown)   \n",
       "3  Gorillaz                             On Melancholy Hill   \n",
       "4  Gorillaz                                 Clint Eastwood   \n",
       "\n",
       "                                           Album Album_type  Danceability  \\\n",
       "0                                     Demon Days      album         0.818   \n",
       "1                                  Plastic Beach      album         0.676   \n",
       "2  New Gold (feat. Tame Impala and Bootie Brown)     single         0.695   \n",
       "3                                  Plastic Beach      album         0.689   \n",
       "4                                       Gorillaz      album         0.663   \n",
       "\n",
       "   Energy   Key  Loudness  Speechiness  Acousticness  Instrumentalness  \\\n",
       "0   0.705   6.0    -6.679       0.1770      0.008360          0.002330   \n",
       "1   0.703   8.0    -5.815       0.0302      0.086900          0.000687   \n",
       "2   0.923   1.0    -3.930       0.0522      0.042500          0.046900   \n",
       "3   0.739   2.0    -5.810       0.0260      0.000015          0.509000   \n",
       "4   0.694  10.0    -8.627       0.1710      0.025300          0.000000   \n",
       "\n",
       "   Liveness  Valence    Tempo  Duration_ms   Channel        Views      Likes  \\\n",
       "0    0.6130    0.772  138.559     222640.0  Gorillaz  693555221.0  6220896.0   \n",
       "1    0.0463    0.852   92.761     200173.0  Gorillaz   72011645.0  1079128.0   \n",
       "2    0.1160    0.551  108.014     215150.0  Gorillaz    8435055.0   282142.0   \n",
       "3    0.0640    0.578  120.423     233867.0  Gorillaz  211754952.0  1788577.0   \n",
       "4    0.0698    0.525  167.953     340920.0  Gorillaz  618480958.0  6197318.0   \n",
       "\n",
       "   Comments Licensed official_video        Stream  \n",
       "0  169907.0     True           True  1.040235e+09  \n",
       "1   31003.0     True           True  3.100837e+08  \n",
       "2    7399.0     True           True  6.306347e+07  \n",
       "3   55229.0     True           True  4.346636e+08  \n",
       "4  155930.0     True           True  6.172597e+08  "
      ]
     },
     "execution_count": 53,
     "metadata": {},
     "output_type": "execute_result"
    }
   ],
   "source": [
    "data_copy.head()"
   ]
  },
  {
   "cell_type": "markdown",
   "id": "7498bbf1",
   "metadata": {},
   "source": [
    "In this spotify and youtube dataset we have 20718 rows and 22 columns which are also called as 20718 data points.Each row acts as a single data point."
   ]
  },
  {
   "cell_type": "code",
   "execution_count": 54,
   "id": "d562a5fe",
   "metadata": {},
   "outputs": [
    {
     "name": "stdout",
     "output_type": "stream",
     "text": [
      "<class 'pandas.core.frame.DataFrame'>\n",
      "RangeIndex: 20718 entries, 0 to 20717\n",
      "Data columns (total 22 columns):\n",
      " #   Column            Non-Null Count  Dtype  \n",
      "---  ------            --------------  -----  \n",
      " 0   Artist            20718 non-null  object \n",
      " 1   Track             20718 non-null  object \n",
      " 2   Album             20718 non-null  object \n",
      " 3   Album_type        20718 non-null  object \n",
      " 4   Danceability      20716 non-null  float64\n",
      " 5   Energy            20716 non-null  float64\n",
      " 6   Key               20716 non-null  float64\n",
      " 7   Loudness          20716 non-null  float64\n",
      " 8   Speechiness       20716 non-null  float64\n",
      " 9   Acousticness      20716 non-null  float64\n",
      " 10  Instrumentalness  20716 non-null  float64\n",
      " 11  Liveness          20716 non-null  float64\n",
      " 12  Valence           20716 non-null  float64\n",
      " 13  Tempo             20716 non-null  float64\n",
      " 14  Duration_ms       20716 non-null  float64\n",
      " 15  Channel           20248 non-null  object \n",
      " 16  Views             20248 non-null  float64\n",
      " 17  Likes             20177 non-null  float64\n",
      " 18  Comments          20149 non-null  float64\n",
      " 19  Licensed          20248 non-null  object \n",
      " 20  official_video    20248 non-null  object \n",
      " 21  Stream            20142 non-null  float64\n",
      "dtypes: float64(15), object(7)\n",
      "memory usage: 3.5+ MB\n"
     ]
    }
   ],
   "source": [
    "data_copy.info()"
   ]
  },
  {
   "cell_type": "code",
   "execution_count": 55,
   "id": "ce772ebf",
   "metadata": {},
   "outputs": [
    {
     "data": {
      "text/plain": [
       "Index(['Artist', 'Track', 'Album', 'Album_type', 'Danceability', 'Energy',\n",
       "       'Key', 'Loudness', 'Speechiness', 'Acousticness', 'Instrumentalness',\n",
       "       'Liveness', 'Valence', 'Tempo', 'Duration_ms', 'Channel', 'Views',\n",
       "       'Likes', 'Comments', 'Licensed', 'official_video', 'Stream'],\n",
       "      dtype='object')"
      ]
     },
     "execution_count": 55,
     "metadata": {},
     "output_type": "execute_result"
    }
   ],
   "source": [
    "data_copy.columns"
   ]
  },
  {
   "cell_type": "code",
   "execution_count": 56,
   "id": "52da58b4",
   "metadata": {},
   "outputs": [
    {
     "data": {
      "text/plain": [
       "Artist                0\n",
       "Track                 0\n",
       "Album                 0\n",
       "Album_type            0\n",
       "Danceability          2\n",
       "Energy                2\n",
       "Key                   2\n",
       "Loudness              2\n",
       "Speechiness           2\n",
       "Acousticness          2\n",
       "Instrumentalness      2\n",
       "Liveness              2\n",
       "Valence               2\n",
       "Tempo                 2\n",
       "Duration_ms           2\n",
       "Channel             470\n",
       "Views               470\n",
       "Likes               541\n",
       "Comments            569\n",
       "Licensed            470\n",
       "official_video      470\n",
       "Stream              576\n",
       "dtype: int64"
      ]
     },
     "execution_count": 56,
     "metadata": {},
     "output_type": "execute_result"
    }
   ],
   "source": [
    "data_copy.isnull().sum()"
   ]
  },
  {
   "cell_type": "code",
   "execution_count": 57,
   "id": "41055552",
   "metadata": {},
   "outputs": [],
   "source": [
    "data_copy.dropna(inplace=True)"
   ]
  },
  {
   "cell_type": "markdown",
   "id": "33d672cc",
   "metadata": {},
   "source": [
    "In this data set the columns having null values are missing completly at random and threshold percentage is less than 5.so can drop the rows using dropna"
   ]
  },
  {
   "cell_type": "code",
   "execution_count": 58,
   "id": "1dbf97fd",
   "metadata": {},
   "outputs": [
    {
     "data": {
      "text/plain": [
       "Artist              0\n",
       "Track               0\n",
       "Album               0\n",
       "Album_type          0\n",
       "Danceability        0\n",
       "Energy              0\n",
       "Key                 0\n",
       "Loudness            0\n",
       "Speechiness         0\n",
       "Acousticness        0\n",
       "Instrumentalness    0\n",
       "Liveness            0\n",
       "Valence             0\n",
       "Tempo               0\n",
       "Duration_ms         0\n",
       "Channel             0\n",
       "Views               0\n",
       "Likes               0\n",
       "Comments            0\n",
       "Licensed            0\n",
       "official_video      0\n",
       "Stream              0\n",
       "dtype: int64"
      ]
     },
     "execution_count": 58,
     "metadata": {},
     "output_type": "execute_result"
    }
   ],
   "source": [
    "data_copy.isnull().sum()"
   ]
  },
  {
   "cell_type": "code",
   "execution_count": 59,
   "id": "dd3e7d74",
   "metadata": {},
   "outputs": [
    {
     "name": "stdout",
     "output_type": "stream",
     "text": [
      "Empty DataFrame\n",
      "Columns: [Artist, Track, Album, Album_type, Danceability, Energy, Key, Loudness, Speechiness, Acousticness, Instrumentalness, Liveness, Valence, Tempo, Duration_ms, Channel, Views, Likes, Comments, Licensed, official_video, Stream]\n",
      "Index: []\n"
     ]
    }
   ],
   "source": [
    "duplicates=data_copy.duplicated()\n",
    "print(data_copy[duplicates])"
   ]
  },
  {
   "cell_type": "markdown",
   "id": "c8655ea2",
   "metadata": {},
   "source": [
    "In this dataset there are no dupliacates where no rows are repeated.so there are [0 rows x 22 columns]"
   ]
  },
  {
   "cell_type": "code",
   "execution_count": 60,
   "id": "c3def18e",
   "metadata": {},
   "outputs": [],
   "source": [
    "#data_copy.info()"
   ]
  },
  {
   "cell_type": "code",
   "execution_count": 61,
   "id": "e2b75474",
   "metadata": {
    "scrolled": true
   },
   "outputs": [
    {
     "data": {
      "text/html": [
       "<div>\n",
       "<style scoped>\n",
       "    .dataframe tbody tr th:only-of-type {\n",
       "        vertical-align: middle;\n",
       "    }\n",
       "\n",
       "    .dataframe tbody tr th {\n",
       "        vertical-align: top;\n",
       "    }\n",
       "\n",
       "    .dataframe thead th {\n",
       "        text-align: right;\n",
       "    }\n",
       "</style>\n",
       "<table border=\"1\" class=\"dataframe\">\n",
       "  <thead>\n",
       "    <tr style=\"text-align: right;\">\n",
       "      <th></th>\n",
       "      <th>Danceability</th>\n",
       "      <th>Energy</th>\n",
       "      <th>Key</th>\n",
       "      <th>Loudness</th>\n",
       "      <th>Speechiness</th>\n",
       "      <th>Acousticness</th>\n",
       "      <th>Instrumentalness</th>\n",
       "      <th>Liveness</th>\n",
       "      <th>Valence</th>\n",
       "      <th>Tempo</th>\n",
       "      <th>Duration_ms</th>\n",
       "      <th>Views</th>\n",
       "      <th>Likes</th>\n",
       "      <th>Comments</th>\n",
       "      <th>Stream</th>\n",
       "    </tr>\n",
       "  </thead>\n",
       "  <tbody>\n",
       "    <tr>\n",
       "      <th>count</th>\n",
       "      <td>19549.000000</td>\n",
       "      <td>19549.000000</td>\n",
       "      <td>19549.000000</td>\n",
       "      <td>19549.000000</td>\n",
       "      <td>19549.000000</td>\n",
       "      <td>19549.000000</td>\n",
       "      <td>19549.000000</td>\n",
       "      <td>19549.000000</td>\n",
       "      <td>19549.000000</td>\n",
       "      <td>19549.000000</td>\n",
       "      <td>1.954900e+04</td>\n",
       "      <td>1.954900e+04</td>\n",
       "      <td>1.954900e+04</td>\n",
       "      <td>1.954900e+04</td>\n",
       "      <td>1.954900e+04</td>\n",
       "    </tr>\n",
       "    <tr>\n",
       "      <th>mean</th>\n",
       "      <td>0.621059</td>\n",
       "      <td>0.635170</td>\n",
       "      <td>5.294337</td>\n",
       "      <td>-7.633179</td>\n",
       "      <td>0.095392</td>\n",
       "      <td>0.289106</td>\n",
       "      <td>0.055292</td>\n",
       "      <td>0.191226</td>\n",
       "      <td>0.528950</td>\n",
       "      <td>120.605702</td>\n",
       "      <td>2.246281e+05</td>\n",
       "      <td>9.545626e+07</td>\n",
       "      <td>6.700487e+05</td>\n",
       "      <td>2.786371e+04</td>\n",
       "      <td>1.371101e+08</td>\n",
       "    </tr>\n",
       "    <tr>\n",
       "      <th>std</th>\n",
       "      <td>0.165489</td>\n",
       "      <td>0.213555</td>\n",
       "      <td>3.579338</td>\n",
       "      <td>4.618839</td>\n",
       "      <td>0.106243</td>\n",
       "      <td>0.285908</td>\n",
       "      <td>0.192519</td>\n",
       "      <td>0.165197</td>\n",
       "      <td>0.245228</td>\n",
       "      <td>29.619340</td>\n",
       "      <td>1.269126e+05</td>\n",
       "      <td>2.775744e+08</td>\n",
       "      <td>1.805054e+06</td>\n",
       "      <td>1.959074e+05</td>\n",
       "      <td>2.463589e+08</td>\n",
       "    </tr>\n",
       "    <tr>\n",
       "      <th>min</th>\n",
       "      <td>0.000000</td>\n",
       "      <td>0.000020</td>\n",
       "      <td>0.000000</td>\n",
       "      <td>-46.251000</td>\n",
       "      <td>0.000000</td>\n",
       "      <td>0.000001</td>\n",
       "      <td>0.000000</td>\n",
       "      <td>0.014500</td>\n",
       "      <td>0.000000</td>\n",
       "      <td>0.000000</td>\n",
       "      <td>3.098500e+04</td>\n",
       "      <td>2.600000e+01</td>\n",
       "      <td>0.000000e+00</td>\n",
       "      <td>0.000000e+00</td>\n",
       "      <td>6.574000e+03</td>\n",
       "    </tr>\n",
       "    <tr>\n",
       "      <th>25%</th>\n",
       "      <td>0.519000</td>\n",
       "      <td>0.508000</td>\n",
       "      <td>2.000000</td>\n",
       "      <td>-8.772000</td>\n",
       "      <td>0.035700</td>\n",
       "      <td>0.044400</td>\n",
       "      <td>0.000000</td>\n",
       "      <td>0.094000</td>\n",
       "      <td>0.339000</td>\n",
       "      <td>96.990000</td>\n",
       "      <td>1.802400e+05</td>\n",
       "      <td>1.911528e+06</td>\n",
       "      <td>2.238000e+04</td>\n",
       "      <td>5.310000e+02</td>\n",
       "      <td>1.781089e+07</td>\n",
       "    </tr>\n",
       "    <tr>\n",
       "      <th>50%</th>\n",
       "      <td>0.639000</td>\n",
       "      <td>0.666000</td>\n",
       "      <td>5.000000</td>\n",
       "      <td>-6.516000</td>\n",
       "      <td>0.050700</td>\n",
       "      <td>0.190000</td>\n",
       "      <td>0.000002</td>\n",
       "      <td>0.125000</td>\n",
       "      <td>0.536000</td>\n",
       "      <td>119.964000</td>\n",
       "      <td>2.132530e+05</td>\n",
       "      <td>1.491440e+07</td>\n",
       "      <td>1.279090e+05</td>\n",
       "      <td>3.343000e+03</td>\n",
       "      <td>4.979139e+07</td>\n",
       "    </tr>\n",
       "    <tr>\n",
       "      <th>75%</th>\n",
       "      <td>0.742000</td>\n",
       "      <td>0.797000</td>\n",
       "      <td>8.000000</td>\n",
       "      <td>-4.929000</td>\n",
       "      <td>0.104000</td>\n",
       "      <td>0.470000</td>\n",
       "      <td>0.000433</td>\n",
       "      <td>0.234000</td>\n",
       "      <td>0.725000</td>\n",
       "      <td>139.951000</td>\n",
       "      <td>2.519200e+05</td>\n",
       "      <td>7.152989e+07</td>\n",
       "      <td>5.266400e+05</td>\n",
       "      <td>1.449300e+04</td>\n",
       "      <td>1.390828e+08</td>\n",
       "    </tr>\n",
       "    <tr>\n",
       "      <th>max</th>\n",
       "      <td>0.975000</td>\n",
       "      <td>1.000000</td>\n",
       "      <td>11.000000</td>\n",
       "      <td>0.920000</td>\n",
       "      <td>0.964000</td>\n",
       "      <td>0.996000</td>\n",
       "      <td>1.000000</td>\n",
       "      <td>1.000000</td>\n",
       "      <td>0.993000</td>\n",
       "      <td>243.372000</td>\n",
       "      <td>4.676058e+06</td>\n",
       "      <td>8.079649e+09</td>\n",
       "      <td>5.078865e+07</td>\n",
       "      <td>1.608314e+07</td>\n",
       "      <td>3.386520e+09</td>\n",
       "    </tr>\n",
       "  </tbody>\n",
       "</table>\n",
       "</div>"
      ],
      "text/plain": [
       "       Danceability        Energy           Key      Loudness   Speechiness  \\\n",
       "count  19549.000000  19549.000000  19549.000000  19549.000000  19549.000000   \n",
       "mean       0.621059      0.635170      5.294337     -7.633179      0.095392   \n",
       "std        0.165489      0.213555      3.579338      4.618839      0.106243   \n",
       "min        0.000000      0.000020      0.000000    -46.251000      0.000000   \n",
       "25%        0.519000      0.508000      2.000000     -8.772000      0.035700   \n",
       "50%        0.639000      0.666000      5.000000     -6.516000      0.050700   \n",
       "75%        0.742000      0.797000      8.000000     -4.929000      0.104000   \n",
       "max        0.975000      1.000000     11.000000      0.920000      0.964000   \n",
       "\n",
       "       Acousticness  Instrumentalness      Liveness       Valence  \\\n",
       "count  19549.000000      19549.000000  19549.000000  19549.000000   \n",
       "mean       0.289106          0.055292      0.191226      0.528950   \n",
       "std        0.285908          0.192519      0.165197      0.245228   \n",
       "min        0.000001          0.000000      0.014500      0.000000   \n",
       "25%        0.044400          0.000000      0.094000      0.339000   \n",
       "50%        0.190000          0.000002      0.125000      0.536000   \n",
       "75%        0.470000          0.000433      0.234000      0.725000   \n",
       "max        0.996000          1.000000      1.000000      0.993000   \n",
       "\n",
       "              Tempo   Duration_ms         Views         Likes      Comments  \\\n",
       "count  19549.000000  1.954900e+04  1.954900e+04  1.954900e+04  1.954900e+04   \n",
       "mean     120.605702  2.246281e+05  9.545626e+07  6.700487e+05  2.786371e+04   \n",
       "std       29.619340  1.269126e+05  2.775744e+08  1.805054e+06  1.959074e+05   \n",
       "min        0.000000  3.098500e+04  2.600000e+01  0.000000e+00  0.000000e+00   \n",
       "25%       96.990000  1.802400e+05  1.911528e+06  2.238000e+04  5.310000e+02   \n",
       "50%      119.964000  2.132530e+05  1.491440e+07  1.279090e+05  3.343000e+03   \n",
       "75%      139.951000  2.519200e+05  7.152989e+07  5.266400e+05  1.449300e+04   \n",
       "max      243.372000  4.676058e+06  8.079649e+09  5.078865e+07  1.608314e+07   \n",
       "\n",
       "             Stream  \n",
       "count  1.954900e+04  \n",
       "mean   1.371101e+08  \n",
       "std    2.463589e+08  \n",
       "min    6.574000e+03  \n",
       "25%    1.781089e+07  \n",
       "50%    4.979139e+07  \n",
       "75%    1.390828e+08  \n",
       "max    3.386520e+09  "
      ]
     },
     "execution_count": 61,
     "metadata": {},
     "output_type": "execute_result"
    }
   ],
   "source": [
    "data_copy.describe()"
   ]
  },
  {
   "cell_type": "code",
   "execution_count": 62,
   "id": "4659c8ea",
   "metadata": {},
   "outputs": [
    {
     "data": {
      "text/plain": [
       "album          14148\n",
       "single          4689\n",
       "compilation      712\n",
       "Name: Album_type, dtype: int64"
      ]
     },
     "execution_count": 62,
     "metadata": {},
     "output_type": "execute_result"
    }
   ],
   "source": [
    "data_copy[\"Album_type\"].value_counts()"
   ]
  },
  {
   "cell_type": "markdown",
   "id": "75676718",
   "metadata": {},
   "source": [
    "### Exploring Album type"
   ]
  },
  {
   "cell_type": "code",
   "execution_count": 63,
   "id": "b642be8f",
   "metadata": {},
   "outputs": [
    {
     "data": {
      "image/png": "[encoded data removed]",
      "text/plain": [
       "<Figure size 360x360 with 1 Axes>"
      ]
     },
     "metadata": {},
     "output_type": "display_data"
    }
   ],
   "source": [
    "sizes=data_copy[\"Album_type\"].value_counts().values\n",
    "album_type=data_copy[\"Album_type\"].value_counts().index\n",
    "\n",
    "plt.figure(figsize=(5,5))\n",
    "plt.pie(sizes,labels=album_type,autopct=\"%1.1f%%\",radius=1,textprops={\"fontsize\":13})\n",
    "\n",
    "plt.title('Album Types',fontsize=15)\n",
    "\n",
    "plt.show()"
   ]
  },
  {
   "cell_type": "markdown",
   "id": "be07d8ab",
   "metadata": {},
   "source": [
    "From the above pie chat\n",
    "most of the songs released on spotify are contained in album and least are released as single and very least are in compilation"
   ]
  },
  {
   "cell_type": "code",
   "execution_count": 64,
   "id": "6b15f98a",
   "metadata": {},
   "outputs": [
    {
     "data": {
      "text/plain": [
       "True     15260\n",
       "False     4289\n",
       "Name: official_video, dtype: int64"
      ]
     },
     "execution_count": 64,
     "metadata": {},
     "output_type": "execute_result"
    }
   ],
   "source": [
    "data_copy[\"official_video\"].value_counts()"
   ]
  },
  {
   "cell_type": "code",
   "execution_count": 65,
   "id": "25fe0769",
   "metadata": {},
   "outputs": [
    {
     "data": {
      "image/png": "[encoded data removed]",
      "text/plain": [
       "<Figure size 360x360 with 1 Axes>"
      ]
     },
     "metadata": {},
     "output_type": "display_data"
    }
   ],
   "source": [
    "sizes=data_copy[\"official_video\"].value_counts()\n",
    "labels=data_copy[\"official_video\"].value_counts().index\n",
    "\n",
    "plt.figure(figsize=(5,5))\n",
    "plt.pie(sizes,labels=labels,autopct=\"%1.1f%%\",radius=1,textprops={\"fontsize\":13})\n",
    "\n",
    "plt.title('official video',fontsize=15)\n",
    "\n",
    "plt.show()"
   ]
  },
  {
   "cell_type": "markdown",
   "id": "66a80ab8",
   "metadata": {},
   "source": [
    "most of the videos found are official video"
   ]
  },
  {
   "cell_type": "markdown",
   "id": "9c57f57c",
   "metadata": {},
   "source": [
    "#### Analyzing songs by artist and views - youtube, stream - spotify"
   ]
  },
  {
   "cell_type": "code",
   "execution_count": 66,
   "id": "f234551f",
   "metadata": {},
   "outputs": [
    {
     "data": {
      "text/html": [
       "<div>\n",
       "<style scoped>\n",
       "    .dataframe tbody tr th:only-of-type {\n",
       "        vertical-align: middle;\n",
       "    }\n",
       "\n",
       "    .dataframe tbody tr th {\n",
       "        vertical-align: top;\n",
       "    }\n",
       "\n",
       "    .dataframe thead th {\n",
       "        text-align: right;\n",
       "    }\n",
       "</style>\n",
       "<table border=\"1\" class=\"dataframe\">\n",
       "  <thead>\n",
       "    <tr style=\"text-align: right;\">\n",
       "      <th></th>\n",
       "      <th>Views</th>\n",
       "      <th>Stream</th>\n",
       "    </tr>\n",
       "    <tr>\n",
       "      <th>Artist</th>\n",
       "      <th></th>\n",
       "      <th></th>\n",
       "    </tr>\n",
       "  </thead>\n",
       "  <tbody>\n",
       "    <tr>\n",
       "      <th>Ed Sheeran</th>\n",
       "      <td>1.546021e+10</td>\n",
       "      <td>1.439488e+10</td>\n",
       "    </tr>\n",
       "    <tr>\n",
       "      <th>CoComelon</th>\n",
       "      <td>1.460167e+10</td>\n",
       "      <td>3.690822e+08</td>\n",
       "    </tr>\n",
       "    <tr>\n",
       "      <th>Katy Perry</th>\n",
       "      <td>1.312063e+10</td>\n",
       "      <td>6.607329e+09</td>\n",
       "    </tr>\n",
       "    <tr>\n",
       "      <th>Charlie Puth</th>\n",
       "      <td>1.216759e+10</td>\n",
       "      <td>7.041187e+09</td>\n",
       "    </tr>\n",
       "    <tr>\n",
       "      <th>Luis Fonsi</th>\n",
       "      <td>1.162811e+10</td>\n",
       "      <td>5.054326e+09</td>\n",
       "    </tr>\n",
       "    <tr>\n",
       "      <th>Justin Bieber</th>\n",
       "      <td>1.099106e+10</td>\n",
       "      <td>1.209777e+10</td>\n",
       "    </tr>\n",
       "    <tr>\n",
       "      <th>Daddy Yankee</th>\n",
       "      <td>1.087193e+10</td>\n",
       "      <td>5.135462e+09</td>\n",
       "    </tr>\n",
       "    <tr>\n",
       "      <th>Bruno Mars</th>\n",
       "      <td>1.024092e+10</td>\n",
       "      <td>1.089786e+10</td>\n",
       "    </tr>\n",
       "    <tr>\n",
       "      <th>Macklemore &amp; Ryan Lewis</th>\n",
       "      <td>1.012206e+10</td>\n",
       "      <td>3.982978e+09</td>\n",
       "    </tr>\n",
       "    <tr>\n",
       "      <th>Coldplay</th>\n",
       "      <td>9.997278e+09</td>\n",
       "      <td>1.177848e+10</td>\n",
       "    </tr>\n",
       "  </tbody>\n",
       "</table>\n",
       "</div>"
      ],
      "text/plain": [
       "                                Views        Stream\n",
       "Artist                                             \n",
       "Ed Sheeran               1.546021e+10  1.439488e+10\n",
       "CoComelon                1.460167e+10  3.690822e+08\n",
       "Katy Perry               1.312063e+10  6.607329e+09\n",
       "Charlie Puth             1.216759e+10  7.041187e+09\n",
       "Luis Fonsi               1.162811e+10  5.054326e+09\n",
       "Justin Bieber            1.099106e+10  1.209777e+10\n",
       "Daddy Yankee             1.087193e+10  5.135462e+09\n",
       "Bruno Mars               1.024092e+10  1.089786e+10\n",
       "Macklemore & Ryan Lewis  1.012206e+10  3.982978e+09\n",
       "Coldplay                 9.997278e+09  1.177848e+10"
      ]
     },
     "execution_count": 66,
     "metadata": {},
     "output_type": "execute_result"
    }
   ],
   "source": [
    "# Group the songs by artist and views - youtube, stream - spotify\n",
    "artist_grouped = data_copy.groupby('Artist')[['Views', 'Stream']].sum()\n",
    "\n",
    "# Sort the artists by the sum of views and streams in descending order\n",
    "artist_sorted = artist_grouped.sort_values(['Views', 'Stream'], ascending=False)\n",
    "\n",
    "# Get the top 10 artists with the most number of views on YouTube and streams on Spotify\n",
    "top_10 = artist_sorted.head(10)\n",
    "\n",
    "top_10"
   ]
  },
  {
   "cell_type": "markdown",
   "id": "6bd69a86",
   "metadata": {},
   "source": [
    "Here are the top 10 artists based on views and stream "
   ]
  },
  {
   "cell_type": "code",
   "execution_count": 67,
   "id": "280b0775",
   "metadata": {},
   "outputs": [],
   "source": [
    "#data_copy.groupby('Artist')[['Views', 'Stream']].sum()"
   ]
  },
  {
   "cell_type": "code",
   "execution_count": 68,
   "id": "40760116",
   "metadata": {},
   "outputs": [],
   "source": [
    "#artist_grouped.sort_values(['Views', 'Stream'],ascending=False).head(10)"
   ]
  },
  {
   "cell_type": "code",
   "execution_count": 69,
   "id": "f2a48c24",
   "metadata": {
    "scrolled": false
   },
   "outputs": [
    {
     "data": {
      "image/png": "[encoded data removed]",
      "text/plain": [
       "<Figure size 864x432 with 2 Axes>"
      ]
     },
     "metadata": {
      "needs_background": "light"
     },
     "output_type": "display_data"
    }
   ],
   "source": [
    "# Create two separate DataFrames for views and streams\n",
    "df_views = data_copy.groupby('Artist')['Views'].sum().sort_values(ascending=False)[:10]\n",
    "df_streams = data_copy.groupby('Artist')['Stream'].sum().sort_values(ascending=False)[:10]\n",
    "\n",
    "fig, (ax1, ax2) = plt.subplots(1, 2, figsize=(12,6))\n",
    "\n",
    "# top 10 yt\n",
    "ax1.set_title('Top 10 Artists on YouTube')\n",
    "df_views.plot(kind='bar', ax=ax1)\n",
    "\n",
    "# top 10 spotify\n",
    "ax2.set_title('Top 10 Artists on Spotify')\n",
    "df_streams.plot(kind='bar', ax=ax2)\n",
    "\n",
    "\n",
    "ax1.set_xlabel('Artist')\n",
    "ax1.set_ylabel('Views')\n",
    "ax2.set_xlabel('Artist')\n",
    "ax2.set_ylabel('Streams')\n",
    "fig.tight_layout()\n",
    "plt.show()"
   ]
  },
  {
   "cell_type": "markdown",
   "id": "e4a3b9af",
   "metadata": {},
   "source": [
    "#### top 10 artists based on views on youtube\n",
    "Ed Sheeran was the most viewed artist, with 15 billion views on youtube. CoComelon and Katy Perry are the second and third most viewed artists with 14 billion and 13 billion views, respectively. Charlie Puth and Luis Fonsi complete the top five artists with 12 billion and 11 billion views, respectively.\n",
    "\n",
    "#### top 10 artists based on stream on spotify\n",
    "While on Spotify Post Malone was the most streamed artist, with 15 billion.Next Ed Shreeran is streamed about 14 billion. Dua Lipa and XXXTENTACION are the third and fourth most streamed artists with 13.5 billion and 13 billion, respectively. The Weeknd is on fifth place by 13 billion streams.\n",
    "\n",
    "These figures highlight the popularity of these artists and their music on the different online platforms."
   ]
  },
  {
   "cell_type": "markdown",
   "id": "ee33c9a1",
   "metadata": {},
   "source": [
    "#### Analyzing Top 10 songs on the basis of views, comments and like"
   ]
  },
  {
   "cell_type": "code",
   "execution_count": 70,
   "id": "01b53173",
   "metadata": {},
   "outputs": [],
   "source": [
    "# Top 10 songs based on views\n",
    "top10_views = data_copy.nlargest(10, 'Views')\n",
    "\n",
    "# Top 10 songs based on comments\n",
    "top10_comments = data_copy.nlargest(10, 'Comments')\n",
    "\n",
    "# Top 10 songs based on likes\n",
    "top10_likes = data_copy.nlargest(10, 'Likes')"
   ]
  },
  {
   "cell_type": "code",
   "execution_count": 71,
   "id": "a0dd1630",
   "metadata": {},
   "outputs": [],
   "source": [
    "#top10_views"
   ]
  },
  {
   "cell_type": "code",
   "execution_count": 72,
   "id": "59702f72",
   "metadata": {},
   "outputs": [
    {
     "name": "stderr",
     "output_type": "stream",
     "text": [
      "C:\\Users\\India\\anaconda3\\lib\\site-packages\\IPython\\core\\pylabtools.py:151: UserWarning: Glyph 44053 (\\N{HANGUL SYLLABLE GANG}) missing from current font.\n",
      "  fig.canvas.print_figure(bytes_io, **kw)\n",
      "C:\\Users\\India\\anaconda3\\lib\\site-packages\\IPython\\core\\pylabtools.py:151: UserWarning: Glyph 45224 (\\N{HANGUL SYLLABLE NAM}) missing from current font.\n",
      "  fig.canvas.print_figure(bytes_io, **kw)\n",
      "C:\\Users\\India\\anaconda3\\lib\\site-packages\\IPython\\core\\pylabtools.py:151: UserWarning: Glyph 49828 (\\N{HANGUL SYLLABLE SEU}) missing from current font.\n",
      "  fig.canvas.print_figure(bytes_io, **kw)\n",
      "C:\\Users\\India\\anaconda3\\lib\\site-packages\\IPython\\core\\pylabtools.py:151: UserWarning: Glyph 53440 (\\N{HANGUL SYLLABLE TA}) missing from current font.\n",
      "  fig.canvas.print_figure(bytes_io, **kw)\n",
      "C:\\Users\\India\\anaconda3\\lib\\site-packages\\IPython\\core\\pylabtools.py:151: UserWarning: Glyph 51068 (\\N{HANGUL SYLLABLE IL}) missing from current font.\n",
      "  fig.canvas.print_figure(bytes_io, **kw)\n"
     ]
    },
    {
     "data": {
      "image/png": "[encoded data removed]",
      "text/plain": [
       "<Figure size 432x288 with 1 Axes>"
      ]
     },
     "metadata": {
      "needs_background": "light"
     },
     "output_type": "display_data"
    },
    {
     "data": {
      "image/png": "[encoded data removed]",
      "text/plain": [
       "<Figure size 432x288 with 1 Axes>"
      ]
     },
     "metadata": {
      "needs_background": "light"
     },
     "output_type": "display_data"
    },
    {
     "data": {
      "image/png": "[encoded data removed]",
      "text/plain": [
       "<Figure size 432x288 with 1 Axes>"
      ]
     },
     "metadata": {
      "needs_background": "light"
     },
     "output_type": "display_data"
    }
   ],
   "source": [
    "# Top 10 songs with most views\n",
    "top10_views.plot(kind='barh', x='Track', y='Views', title='Top 10 songs with most views')\n",
    "\n",
    "# Top 10 songs with most comments\n",
    "top10_views.plot(kind='barh', x='Track', y='Comments', title='Top 10 songs with most comments')\n",
    "\n",
    "# Top 10 songs with most likes\n",
    "top10_views.plot(kind='barh', x='Track', y='Likes', title='Top 10 songs with most likes')\n",
    "\n",
    "plt.show()"
   ]
  },
  {
   "cell_type": "markdown",
   "id": "b98536b8",
   "metadata": {},
   "source": [
    "As we can see that Despacito is the most liked, viewed and commented music and is popular among 80 million people and 50 million people liked it.Then Shape of you is next by 30 million likes."
   ]
  },
  {
   "cell_type": "markdown",
   "id": "8c561635",
   "metadata": {},
   "source": [
    "#### Analyzing songs on the basis of Energy and Danceability"
   ]
  },
  {
   "cell_type": "code",
   "execution_count": 74,
   "id": "11e63611",
   "metadata": {},
   "outputs": [
    {
     "data": {
      "text/html": [
       "<div>\n",
       "<style scoped>\n",
       "    .dataframe tbody tr th:only-of-type {\n",
       "        vertical-align: middle;\n",
       "    }\n",
       "\n",
       "    .dataframe tbody tr th {\n",
       "        vertical-align: top;\n",
       "    }\n",
       "\n",
       "    .dataframe thead th {\n",
       "        text-align: right;\n",
       "    }\n",
       "</style>\n",
       "<table border=\"1\" class=\"dataframe\">\n",
       "  <thead>\n",
       "    <tr style=\"text-align: right;\">\n",
       "      <th></th>\n",
       "      <th>Track</th>\n",
       "      <th>Energy</th>\n",
       "      <th>Danceability</th>\n",
       "      <th>Acousticness</th>\n",
       "    </tr>\n",
       "  </thead>\n",
       "  <tbody>\n",
       "    <tr>\n",
       "      <th>15250</th>\n",
       "      <td>Blinding Lights</td>\n",
       "      <td>0.730</td>\n",
       "      <td>0.514</td>\n",
       "      <td>0.00146</td>\n",
       "    </tr>\n",
       "    <tr>\n",
       "      <th>12452</th>\n",
       "      <td>Shape of You</td>\n",
       "      <td>0.652</td>\n",
       "      <td>0.825</td>\n",
       "      <td>0.58100</td>\n",
       "    </tr>\n",
       "    <tr>\n",
       "      <th>19186</th>\n",
       "      <td>Someone You Loved</td>\n",
       "      <td>0.405</td>\n",
       "      <td>0.501</td>\n",
       "      <td>0.75100</td>\n",
       "    </tr>\n",
       "    <tr>\n",
       "      <th>17937</th>\n",
       "      <td>rockstar (feat. 21 Savage)</td>\n",
       "      <td>0.520</td>\n",
       "      <td>0.585</td>\n",
       "      <td>0.12400</td>\n",
       "    </tr>\n",
       "    <tr>\n",
       "      <th>17938</th>\n",
       "      <td>Sunflower - Spider-Man: Into the Spider-Verse</td>\n",
       "      <td>0.522</td>\n",
       "      <td>0.755</td>\n",
       "      <td>0.53300</td>\n",
       "    </tr>\n",
       "    <tr>\n",
       "      <th>17445</th>\n",
       "      <td>Sunflower - Spider-Man: Into the Spider-Verse</td>\n",
       "      <td>0.522</td>\n",
       "      <td>0.755</td>\n",
       "      <td>0.53300</td>\n",
       "    </tr>\n",
       "    <tr>\n",
       "      <th>13503</th>\n",
       "      <td>One Dance</td>\n",
       "      <td>0.625</td>\n",
       "      <td>0.792</td>\n",
       "      <td>0.00776</td>\n",
       "    </tr>\n",
       "    <tr>\n",
       "      <th>16028</th>\n",
       "      <td>Closer</td>\n",
       "      <td>0.524</td>\n",
       "      <td>0.748</td>\n",
       "      <td>0.41400</td>\n",
       "    </tr>\n",
       "    <tr>\n",
       "      <th>16099</th>\n",
       "      <td>Closer</td>\n",
       "      <td>0.524</td>\n",
       "      <td>0.748</td>\n",
       "      <td>0.41400</td>\n",
       "    </tr>\n",
       "    <tr>\n",
       "      <th>14030</th>\n",
       "      <td>Believer</td>\n",
       "      <td>0.780</td>\n",
       "      <td>0.776</td>\n",
       "      <td>0.06220</td>\n",
       "    </tr>\n",
       "  </tbody>\n",
       "</table>\n",
       "</div>"
      ],
      "text/plain": [
       "                                               Track  Energy  Danceability  \\\n",
       "15250                                Blinding Lights   0.730         0.514   \n",
       "12452                                   Shape of You   0.652         0.825   \n",
       "19186                              Someone You Loved   0.405         0.501   \n",
       "17937                     rockstar (feat. 21 Savage)   0.520         0.585   \n",
       "17938  Sunflower - Spider-Man: Into the Spider-Verse   0.522         0.755   \n",
       "17445  Sunflower - Spider-Man: Into the Spider-Verse   0.522         0.755   \n",
       "13503                                      One Dance   0.625         0.792   \n",
       "16028                                         Closer   0.524         0.748   \n",
       "16099                                         Closer   0.524         0.748   \n",
       "14030                                       Believer   0.780         0.776   \n",
       "\n",
       "       Acousticness  \n",
       "15250       0.00146  \n",
       "12452       0.58100  \n",
       "19186       0.75100  \n",
       "17937       0.12400  \n",
       "17938       0.53300  \n",
       "17445       0.53300  \n",
       "13503       0.00776  \n",
       "16028       0.41400  \n",
       "16099       0.41400  \n",
       "14030       0.06220  "
      ]
     },
     "execution_count": 74,
     "metadata": {},
     "output_type": "execute_result"
    }
   ],
   "source": [
    "top_songs = data_copy.sort_values('Stream', ascending=False).head(10)\n",
    "top_songs[['Track', 'Energy', 'Danceability', 'Acousticness']]"
   ]
  },
  {
   "cell_type": "code",
   "execution_count": 76,
   "id": "6054d796",
   "metadata": {},
   "outputs": [
    {
     "data": {
      "image/png": "[encoded data removed]",
      "text/plain": [
       "<Figure size 720x360 with 1 Axes>"
      ]
     },
     "metadata": {},
     "output_type": "display_data"
    }
   ],
   "source": [
    "top_songs_melt = top_songs.melt(id_vars=['Track'], value_vars=['Energy', 'Danceability', 'Acousticness'],\n",
    "                                var_name='Attribute', value_name='Value')\n",
    "\n",
    "sns.set_style('whitegrid')\n",
    "sns.catplot(x='Track', y='Value', hue='Attribute', data=top_songs_melt, kind='bar',\n",
    "            palette={'Energy': 'blue', 'Danceability': 'orange', 'Acousticness': 'green'},\n",
    "            aspect=2, legend=False)\n",
    "\n",
    "\n",
    "plt.legend(loc='upper right', bbox_to_anchor=(1.25, 1))\n",
    "plt.title('Top 10 Songs by Stream')\n",
    "plt.xlabel('Track')\n",
    "plt.ylabel('Value')\n",
    "\n",
    "plt.xticks(rotation=90)\n",
    "plt.show()"
   ]
  },
  {
   "cell_type": "markdown",
   "id": "22719e80",
   "metadata": {},
   "source": [
    "Songs with danceability and high energy are more popular among people"
   ]
  },
  {
   "cell_type": "markdown",
   "id": "423d6bda",
   "metadata": {},
   "source": [
    "#### Determining the top 10 artists on the Spotify platform whose songs have more likes."
   ]
  },
  {
   "cell_type": "code",
   "execution_count": 77,
   "id": "cc5a6533",
   "metadata": {},
   "outputs": [],
   "source": [
    "#Making the column \"Artist\" as the index\n",
    "df_artist = data_copy.set_index(\"Artist\")\n",
    "df_artist = df_artist[[\"Danceability\",\"Views\",\"Likes\",\"Album_type\"]]"
   ]
  },
  {
   "cell_type": "code",
   "execution_count": 81,
   "id": "51635d22",
   "metadata": {},
   "outputs": [
    {
     "data": {
      "image/png": "[encoded data removed]",
      "text/plain": [
       "<Figure size 720x720 with 1 Axes>"
      ]
     },
     "metadata": {},
     "output_type": "display_data"
    }
   ],
   "source": [
    "plt.figure(figsize=(10,10))\n",
    "\n",
    "# Group the data by artist and calculate the mean danceability score\n",
    "df_artist_grouped = df_artist.groupby('Artist')['Likes'].sum().reset_index()\n",
    "# Sort the dataframe by danceability score in descending order\n",
    "df_artist_sorted = df_artist_grouped.sort_values(by='Likes', ascending=False)\n",
    "# Select the top 10 artists with the highest danceability scores\n",
    "top_10_artists = df_artist_sorted.head(10)\n",
    "# Create a horizontal bar plot using seaborn\n",
    "sns.barplot(x='Likes', y='Artist', data=top_10_artists)\n",
    "# Set the axis labels and title\n",
    "plt.xlabel('Number of Likes')\n",
    "plt.ylabel('Artist')\n",
    "plt.title('Number of Likes per Artist')\n",
    "# Show the plot\n",
    "plt.show()"
   ]
  },
  {
   "cell_type": "markdown",
   "id": "b6315477",
   "metadata": {},
   "source": [
    "BTS and Blackpink are the most popular artist\n",
    "\n"
   ]
  },
  {
   "cell_type": "markdown",
   "id": "66e57f1a",
   "metadata": {},
   "source": [
    "###### Exploring Single Releases by Artists: Identifying Top Performers Based on Likes"
   ]
  },
  {
   "cell_type": "code",
   "execution_count": 83,
   "id": "895b6c2c",
   "metadata": {},
   "outputs": [
    {
     "name": "stdout",
     "output_type": "stream",
     "text": [
      "                       Views       Likes\n",
      "Artist                                  \n",
      "BLACKPINK       7.329516e+09  82959030.0\n",
      "Wiz Khalifa     6.761550e+09  47790517.0\n",
      "Charlie Puth    5.870179e+09  41746947.0\n",
      "Jubin Nautiyal  4.525859e+09  39238542.0\n",
      "Lil Nas X       3.031660e+09  39103751.0\n",
      "Marshmello      2.927575e+09  35843277.0\n",
      "Billie Eilish   2.435116e+09  35590580.0\n",
      "Bizarrap        1.719856e+09  33922836.0\n",
      "Ozuna           5.296919e+09  33337259.0\n",
      "Tanishk Bagchi  3.774839e+09  33190629.0\n"
     ]
    }
   ],
   "source": [
    "# filter the data to select only singles\n",
    "singles = data_copy[data_copy[\"Album_type\"] == \"single\"]\n",
    "# group the data by artist and calculate the total views and likes\n",
    "grouped = singles.groupby(\"Artist\").agg({\"Views\": \"sum\", \"Likes\": \"sum\"})\n",
    "# sort the data based on likes and select the top 3 artists\n",
    "top_10_artists = grouped.sort_values(\"Likes\", ascending=False).head(10)\n",
    "print(top_10_artists)"
   ]
  },
  {
   "cell_type": "markdown",
   "id": "de397a7e",
   "metadata": {},
   "source": [
    "BLACKPINK was the most viewed and most liked artist, with 7.3 billion views and over 82 million likes. Wiz Khalifa and Charlie Puth are the second and third most viewed artists with 6.8 billion and 5.9 billion views, respectively. Jubin Nautiyal and Lil Nas X complete the top five artists with 4.5 billion and 3 billion views, respectively. Marshmello, Billie Eilish, and Bizarrap occupy positions six to eight, with 2.9 billion, 2.4 billion, and 1.7 billion views, respectively.These figures highlight the popularity of these artists and their music, as well as the significant role of online video platforms in promoting and distributing music."
   ]
  },
  {
   "cell_type": "markdown",
   "id": "ff75115a",
   "metadata": {},
   "source": [
    "##### Exploring compilation Releases by Artists: Identifying Top Performers Based on Likes"
   ]
  },
  {
   "cell_type": "code",
   "execution_count": 84,
   "id": "72224f86",
   "metadata": {},
   "outputs": [
    {
     "name": "stdout",
     "output_type": "stream",
     "text": [
      "                           Views       Likes\n",
      "Artist                                      \n",
      "Shakira             3.463816e+09  20327883.0\n",
      "Ellie Goulding      2.283748e+09  12418131.0\n",
      "Dove Cameron        1.791463e+09  12002533.0\n",
      "Earth, Wind & Fire  1.282815e+09   9609744.0\n",
      "Idina Menzel        1.876739e+09   9018477.0\n",
      "DJ Luian            1.586162e+09   8457661.0\n",
      "Mambo Kingz         1.586162e+09   8457653.0\n",
      "PSY                 1.539136e+09   8084738.0\n",
      "Annie Lennox        8.638141e+08   7282923.0\n",
      "Prince Royce        1.411704e+09   7120861.0\n"
     ]
    }
   ],
   "source": [
    "# filter the data to select only singles\n",
    "singles = data_copy[data_copy[\"Album_type\"] == \"compilation\"]\n",
    "# group the data by artist and calculate the total views and likes\n",
    "grouped = singles.groupby(\"Artist\").agg({\"Views\": \"sum\", \"Likes\": \"sum\"})\n",
    "# sort the data based on likes and select the top 3 artists\n",
    "top_10_artists = grouped.sort_values(\"Likes\", ascending=False).head(10)\n",
    "print(top_10_artists)"
   ]
  },
  {
   "cell_type": "markdown",
   "id": "f6b023b4",
   "metadata": {},
   "source": [
    "In compilation album type Shakira is most viewed artist followed by Ellie Goulding and Dove Cameron\n"
   ]
  },
  {
   "cell_type": "markdown",
   "id": "115c4212",
   "metadata": {},
   "source": [
    "#### Identifying the top 10 channels based on views"
   ]
  },
  {
   "cell_type": "code",
   "execution_count": 87,
   "id": "c9b48177",
   "metadata": {},
   "outputs": [
    {
     "data": {
      "image/png": "[encoded data removed]",
      "text/plain": [
       "<Figure size 432x288 with 1 Axes>"
      ]
     },
     "metadata": {},
     "output_type": "display_data"
    }
   ],
   "source": [
    "df_channels = data_copy.groupby(\"Channel\")[\"Views\"].sum().reset_index()\n",
    "df_sort_channels = df_channels.sort_values(\"Views\", ascending=False).head(10)\n",
    "sns.set_style(\"whitegrid\")\n",
    "sns.barplot(x=\"Views\", y=\"Channel\", data=df_sort_channels, color='b')\n",
    "sns.despine(left=True)\n",
    "plt.title('Top Spotify Channels by Views')\n",
    "plt.xlabel('Views')\n",
    "plt.ylabel('Channel')\n",
    "plt.show()"
   ]
  },
  {
   "cell_type": "markdown",
   "id": "129cf3b0",
   "metadata": {},
   "source": [
    "T-Series is most popular channel with 50 billion views.LuisFonsiVEVO, CalvinHarrisVEVO, Macklemore and Ed Shreean are also part of top 5."
   ]
  },
  {
   "cell_type": "code",
   "execution_count": null,
   "id": "ff24b5ef",
   "metadata": {},
   "outputs": [],
   "source": []
  }
 ],
 "metadata": {
  "kernelspec": {
   "display_name": "Python 3 (ipykernel)",
   "language": "python",
   "name": "python3"
  },
  "language_info": {
   "codemirror_mode": {
    "name": "ipython",
    "version": 3
   },
   "file_extension": ".py",
   "mimetype": "text/x-python",
   "name": "python",
   "nbconvert_exporter": "python",
   "pygments_lexer": "ipython3",
   "version": "3.9.12"
  }
 },
 "nbformat": 4,
 "nbformat_minor": 5
}
