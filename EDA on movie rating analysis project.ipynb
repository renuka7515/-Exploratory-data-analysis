{
 "cells": [
  {
   "cell_type": "markdown",
   "id": "40b975dd",
   "metadata": {},
   "source": [
    "### Importing required libraries"
   ]
  },
  {
   "cell_type": "code",
   "execution_count": 1,
   "id": "9e2104eb",
   "metadata": {},
   "outputs": [],
   "source": [
    "import requests\n",
    "from bs4 import BeautifulSoup\n",
    "import re\n",
    "import pandas as pd\n",
    "import numpy as np\n",
    "import matplotlib.pyplot as plt\n",
    "import seaborn as sns\n",
    "import squarify"
   ]
  },
  {
   "cell_type": "markdown",
   "id": "735cd872",
   "metadata": {},
   "source": [
    "### Web Scraping"
   ]
  },
  {
   "cell_type": "code",
   "execution_count": 2,
   "id": "4dae452e",
   "metadata": {},
   "outputs": [
    {
     "name": "stdout",
     "output_type": "stream",
     "text": [
      "https://www.imdb.com/list/ls050782187/?sort=list_order,asc&st_dt=&mode=detail&page=1\n",
      "https://www.imdb.com/list/ls050782187/?sort=list_order,asc&st_dt=&mode=detail&page=2\n",
      "https://www.imdb.com/list/ls050782187/?sort=list_order,asc&st_dt=&mode=detail&page=3\n",
      "https://www.imdb.com/list/ls050782187/?sort=list_order,asc&st_dt=&mode=detail&page=4\n",
      "https://www.imdb.com/list/ls050782187/?sort=list_order,asc&st_dt=&mode=detail&page=5\n",
      "500\n",
      "500\n",
      "500\n",
      "500\n",
      "500\n",
      "500\n",
      "500\n",
      "500\n",
      "500\n",
      "500\n",
      "500\n"
     ]
    }
   ],
   "source": [
    "movie_name=[]\n",
    "year=[]\n",
    "certificate=[]\n",
    "time=[]\n",
    "genre=[]\n",
    "rating=[]\n",
    "directors=[]\n",
    "stars=[]\n",
    "metascore=[]\n",
    "votes=[]\n",
    "gross=[]\n",
    "\n",
    "for i in range(1,6):\n",
    "    urls=\"https://www.imdb.com/list/ls050782187/?sort=list_order,asc&st_dt=&mode=detail&page=\"+str(i)\n",
    "    print(urls)\n",
    "    page = requests.get(urls)\n",
    "    soup = BeautifulSoup(page.text)\n",
    "\n",
    "    for i in soup.find_all(\"h3\",class_=\"lister-item-header\"):\n",
    "        movie_name.append(i.text.split(\"\\n\")[2])\n",
    "\n",
    "\n",
    "    for i in soup.find_all(\"h3\",class_=\"lister-item-header\"):\n",
    "                year.append(i.text.split(\"\\n\")[3].split(\"(\")[1].split(\")\")[0].replace(\"TV Movie\",\"\"))\n",
    "    \n",
    "        \n",
    "    for i in soup.find_all(\"span\",\"runtime\"):\n",
    "        time.append(i.text.split()[0])\n",
    "\n",
    "\n",
    "    for i in soup.find_all(\"span\",class_=\"genre\"):\n",
    "        genre.append(i.text.strip())\n",
    "\n",
    "\n",
    "\n",
    "    for i in soup.find_all(\"div\",class_=\"ipl-rating-star small\"):\n",
    "            rating.append(i.text.replace(\"\\n\",\"\"))\n",
    "\n",
    "\n",
    "    for i in soup.find_all(\"p\",class_=\"text-muted text-small\")[1::3]:\n",
    "        directors.append(i.text.split(\":\")[1].split(\"|\")[0].replace(\"\\n\",\"\"))\n",
    "\n",
    "\n",
    "    for i in  soup.find_all(\"p\",class_=\"text-muted text-small\")[1::3]:\n",
    "        stars.append(i.text.split(\":\")[2].replace(\"\\n\",\"\"))\n",
    "\n",
    "\n",
    "\n",
    "    for i in soup.find_all(\"div\",class_=\"lister-item-content\"):\n",
    "\n",
    "        if i.find(\"span\",class_=\"metascore\"): \n",
    "            meta=i.find(\"span\",class_=\"metascore\").text.replace(\" \",\"\") \n",
    "            metascore.append(meta)\n",
    "        else:\n",
    "            (metascore.append(np.nan))\n",
    "\n",
    "        if i.find(\"span\",class_=\"certificate\"):\n",
    "            cer=i.find(\"span\",class_=\"certificate\").text\n",
    "            certificate.append(cer)\n",
    "        else:\n",
    "            certificate.append(np.nan)\n",
    "\n",
    "        value= i.find_all(\"span\",attrs={\"name\":\"nv\"})\n",
    "        v=value[0].text\n",
    "        votes.append(v)\n",
    "\n",
    "        if len(value)>1:\n",
    "            grosses=value[1].text.replace(\"$\",\"\").replace(\"M\",\"\") \n",
    "            gross.append(grosses)\n",
    "        else:\n",
    "            gross.append(np.nan)\n",
    "\n",
    "movie_release_year=[]            \n",
    "\n",
    "for x in year: \n",
    "    if x==\"I\":\n",
    "        movie_release_year.append(np.nan)\n",
    "    else:\n",
    "        movie_release_year.append(x)            \n",
    "            \n",
    "            \n",
    "print(len(movie_name))\n",
    "print(len(movie_release_year))\n",
    "print(len(time))\n",
    "print(len(genre))\n",
    "print(len(rating))\n",
    "print(len(metascore))\n",
    "print(len(certificate))\n",
    "print(len(directors))\n",
    "print(len(stars))\n",
    "print(len(votes))\n",
    "print(len(gross))"
   ]
  },
  {
   "cell_type": "markdown",
   "id": "6cc58eb6",
   "metadata": {},
   "source": [
    "### Creating a dataframe"
   ]
  },
  {
   "cell_type": "code",
   "execution_count": 3,
   "id": "9d809559",
   "metadata": {},
   "outputs": [],
   "source": [
    "movies=pd.DataFrame({\"Movie Name\":movie_name,\n",
    "                \"Release year\":movie_release_year,\n",
    "                 \"Certificate\":certificate,\n",
    "                 \"Runtime\":time,\n",
    "                 \"Genre\":genre,\n",
    "                \"Rating\":rating,\n",
    "                 \"Metascore\":metascore,\n",
    "                \"Directors\":directors,\n",
    "                \"Stars\":stars,\n",
    "                \"Votes\":votes,\n",
    "                 \"Gross\":gross\n",
    "                })"
   ]
  },
  {
   "cell_type": "markdown",
   "id": "bc5857ed",
   "metadata": {},
   "source": [
    "#### Converting dataframe to csv"
   ]
  },
  {
   "cell_type": "code",
   "execution_count": 4,
   "id": "e56afca8",
   "metadata": {},
   "outputs": [],
   "source": [
    "movies.to_csv(\"movies.csv\")"
   ]
  },
  {
   "cell_type": "markdown",
   "id": "281d88a1",
   "metadata": {},
   "source": [
    "#### Read csv file "
   ]
  },
  {
   "cell_type": "code",
   "execution_count": 5,
   "id": "4a996c7e",
   "metadata": {},
   "outputs": [],
   "source": [
    "movies=pd.read_csv(r\"C:\\Users\\India\\data analysis\\movies.csv\")"
   ]
  },
  {
   "cell_type": "code",
   "execution_count": 6,
   "id": "a7b8e43b",
   "metadata": {},
   "outputs": [
    {
     "data": {
      "text/html": [
       "<div>\n",
       "<style scoped>\n",
       "    .dataframe tbody tr th:only-of-type {\n",
       "        vertical-align: middle;\n",
       "    }\n",
       "\n",
       "    .dataframe tbody tr th {\n",
       "        vertical-align: top;\n",
       "    }\n",
       "\n",
       "    .dataframe thead th {\n",
       "        text-align: right;\n",
       "    }\n",
       "</style>\n",
       "<table border=\"1\" class=\"dataframe\">\n",
       "  <thead>\n",
       "    <tr style=\"text-align: right;\">\n",
       "      <th></th>\n",
       "      <th>Unnamed: 0</th>\n",
       "      <th>Movie Name</th>\n",
       "      <th>Release year</th>\n",
       "      <th>Certificate</th>\n",
       "      <th>Runtime</th>\n",
       "      <th>Genre</th>\n",
       "      <th>Rating</th>\n",
       "      <th>Metascore</th>\n",
       "      <th>Directors</th>\n",
       "      <th>Stars</th>\n",
       "      <th>Votes</th>\n",
       "      <th>Gross</th>\n",
       "    </tr>\n",
       "  </thead>\n",
       "  <tbody>\n",
       "    <tr>\n",
       "      <th>0</th>\n",
       "      <td>0</td>\n",
       "      <td>The Godfather</td>\n",
       "      <td>1972.0</td>\n",
       "      <td>A</td>\n",
       "      <td>175</td>\n",
       "      <td>Crime, Drama</td>\n",
       "      <td>9.2</td>\n",
       "      <td>100.0</td>\n",
       "      <td>Francis Ford Coppola</td>\n",
       "      <td>Marlon Brando, Al Pacino, James Caan, Diane Ke...</td>\n",
       "      <td>1,937,188</td>\n",
       "      <td>134.97</td>\n",
       "    </tr>\n",
       "    <tr>\n",
       "      <th>1</th>\n",
       "      <td>1</td>\n",
       "      <td>The Silence of the Lambs</td>\n",
       "      <td>1991.0</td>\n",
       "      <td>A</td>\n",
       "      <td>118</td>\n",
       "      <td>Crime, Drama, Thriller</td>\n",
       "      <td>8.6</td>\n",
       "      <td>86.0</td>\n",
       "      <td>Jonathan Demme</td>\n",
       "      <td>Jodie Foster, Anthony Hopkins, Lawrence A. Bon...</td>\n",
       "      <td>1,484,324</td>\n",
       "      <td>130.74</td>\n",
       "    </tr>\n",
       "    <tr>\n",
       "      <th>2</th>\n",
       "      <td>2</td>\n",
       "      <td>Star Wars: Episode V - The Empire Strikes Back</td>\n",
       "      <td>1980.0</td>\n",
       "      <td>UA</td>\n",
       "      <td>124</td>\n",
       "      <td>Action, Adventure, Fantasy</td>\n",
       "      <td>8.7</td>\n",
       "      <td>82.0</td>\n",
       "      <td>Irvin Kershner</td>\n",
       "      <td>Mark Hamill, Harrison Ford, Carrie Fisher, Bil...</td>\n",
       "      <td>1,335,091</td>\n",
       "      <td>290.48</td>\n",
       "    </tr>\n",
       "    <tr>\n",
       "      <th>3</th>\n",
       "      <td>3</td>\n",
       "      <td>The Shawshank Redemption</td>\n",
       "      <td>1994.0</td>\n",
       "      <td>A</td>\n",
       "      <td>142</td>\n",
       "      <td>Drama</td>\n",
       "      <td>9.3</td>\n",
       "      <td>82.0</td>\n",
       "      <td>Frank Darabont</td>\n",
       "      <td>Tim Robbins, Morgan Freeman, Bob Gunton, Willi...</td>\n",
       "      <td>2,782,227</td>\n",
       "      <td>28.34</td>\n",
       "    </tr>\n",
       "    <tr>\n",
       "      <th>4</th>\n",
       "      <td>4</td>\n",
       "      <td>The Shining</td>\n",
       "      <td>1980.0</td>\n",
       "      <td>A</td>\n",
       "      <td>146</td>\n",
       "      <td>Drama, Horror</td>\n",
       "      <td>8.4</td>\n",
       "      <td>66.0</td>\n",
       "      <td>Stanley Kubrick</td>\n",
       "      <td>Jack Nicholson, Shelley Duvall, Danny Lloyd, S...</td>\n",
       "      <td>1,062,372</td>\n",
       "      <td>44.02</td>\n",
       "    </tr>\n",
       "    <tr>\n",
       "      <th>...</th>\n",
       "      <td>...</td>\n",
       "      <td>...</td>\n",
       "      <td>...</td>\n",
       "      <td>...</td>\n",
       "      <td>...</td>\n",
       "      <td>...</td>\n",
       "      <td>...</td>\n",
       "      <td>...</td>\n",
       "      <td>...</td>\n",
       "      <td>...</td>\n",
       "      <td>...</td>\n",
       "      <td>...</td>\n",
       "    </tr>\n",
       "    <tr>\n",
       "      <th>495</th>\n",
       "      <td>495</td>\n",
       "      <td>Me, Myself &amp; Irene</td>\n",
       "      <td>2000.0</td>\n",
       "      <td>A</td>\n",
       "      <td>116</td>\n",
       "      <td>Comedy</td>\n",
       "      <td>6.6</td>\n",
       "      <td>49.0</td>\n",
       "      <td>Bobby Farrelly, Peter Farrelly</td>\n",
       "      <td>Jim Carrey, Renée Zellweger, Anthony Anderson,...</td>\n",
       "      <td>245,272</td>\n",
       "      <td>90.57</td>\n",
       "    </tr>\n",
       "    <tr>\n",
       "      <th>496</th>\n",
       "      <td>496</td>\n",
       "      <td>The Darjeeling Limited</td>\n",
       "      <td>2007.0</td>\n",
       "      <td>R</td>\n",
       "      <td>91</td>\n",
       "      <td>Adventure, Comedy, Drama</td>\n",
       "      <td>7.2</td>\n",
       "      <td>67.0</td>\n",
       "      <td>Wes Anderson</td>\n",
       "      <td>Owen Wilson, Adrien Brody, Jason Schwartzman, ...</td>\n",
       "      <td>210,002</td>\n",
       "      <td>11.90</td>\n",
       "    </tr>\n",
       "    <tr>\n",
       "      <th>497</th>\n",
       "      <td>497</td>\n",
       "      <td>Fear</td>\n",
       "      <td>1996.0</td>\n",
       "      <td>Not Rated</td>\n",
       "      <td>97</td>\n",
       "      <td>Drama, Thriller</td>\n",
       "      <td>6.2</td>\n",
       "      <td>51.0</td>\n",
       "      <td>James Foley</td>\n",
       "      <td>Mark Wahlberg, Reese Witherspoon, William Pete...</td>\n",
       "      <td>51,735</td>\n",
       "      <td>20.75</td>\n",
       "    </tr>\n",
       "    <tr>\n",
       "      <th>498</th>\n",
       "      <td>498</td>\n",
       "      <td>Planet Terror</td>\n",
       "      <td>2007.0</td>\n",
       "      <td>A</td>\n",
       "      <td>105</td>\n",
       "      <td>Action, Comedy, Horror</td>\n",
       "      <td>7.0</td>\n",
       "      <td>NaN</td>\n",
       "      <td>Robert Rodriguez</td>\n",
       "      <td>Rose McGowan, Freddy Rodríguez, Josh Brolin, M...</td>\n",
       "      <td>218,327</td>\n",
       "      <td>NaN</td>\n",
       "    </tr>\n",
       "    <tr>\n",
       "      <th>499</th>\n",
       "      <td>499</td>\n",
       "      <td>The Descent</td>\n",
       "      <td>2005.0</td>\n",
       "      <td>A</td>\n",
       "      <td>99</td>\n",
       "      <td>Adventure, Horror, Thriller</td>\n",
       "      <td>7.2</td>\n",
       "      <td>71.0</td>\n",
       "      <td>Neil Marshall</td>\n",
       "      <td>Shauna Macdonald, Natalie Mendoza, Alex Reid, ...</td>\n",
       "      <td>236,286</td>\n",
       "      <td>26.02</td>\n",
       "    </tr>\n",
       "  </tbody>\n",
       "</table>\n",
       "<p>500 rows × 12 columns</p>\n",
       "</div>"
      ],
      "text/plain": [
       "     Unnamed: 0                                      Movie Name  Release year  \\\n",
       "0             0                                   The Godfather        1972.0   \n",
       "1             1                        The Silence of the Lambs        1991.0   \n",
       "2             2  Star Wars: Episode V - The Empire Strikes Back        1980.0   \n",
       "3             3                        The Shawshank Redemption        1994.0   \n",
       "4             4                                     The Shining        1980.0   \n",
       "..          ...                                             ...           ...   \n",
       "495         495                              Me, Myself & Irene        2000.0   \n",
       "496         496                          The Darjeeling Limited        2007.0   \n",
       "497         497                                            Fear        1996.0   \n",
       "498         498                                   Planet Terror        2007.0   \n",
       "499         499                                     The Descent        2005.0   \n",
       "\n",
       "    Certificate  Runtime                        Genre  Rating  Metascore  \\\n",
       "0             A      175                 Crime, Drama     9.2      100.0   \n",
       "1             A      118       Crime, Drama, Thriller     8.6       86.0   \n",
       "2            UA      124   Action, Adventure, Fantasy     8.7       82.0   \n",
       "3             A      142                        Drama     9.3       82.0   \n",
       "4             A      146                Drama, Horror     8.4       66.0   \n",
       "..          ...      ...                          ...     ...        ...   \n",
       "495           A      116                       Comedy     6.6       49.0   \n",
       "496           R       91     Adventure, Comedy, Drama     7.2       67.0   \n",
       "497   Not Rated       97              Drama, Thriller     6.2       51.0   \n",
       "498           A      105       Action, Comedy, Horror     7.0        NaN   \n",
       "499           A       99  Adventure, Horror, Thriller     7.2       71.0   \n",
       "\n",
       "                          Directors  \\\n",
       "0              Francis Ford Coppola   \n",
       "1                    Jonathan Demme   \n",
       "2                    Irvin Kershner   \n",
       "3                    Frank Darabont   \n",
       "4                   Stanley Kubrick   \n",
       "..                              ...   \n",
       "495  Bobby Farrelly, Peter Farrelly   \n",
       "496                    Wes Anderson   \n",
       "497                     James Foley   \n",
       "498                Robert Rodriguez   \n",
       "499                   Neil Marshall   \n",
       "\n",
       "                                                 Stars      Votes   Gross  \n",
       "0    Marlon Brando, Al Pacino, James Caan, Diane Ke...  1,937,188  134.97  \n",
       "1    Jodie Foster, Anthony Hopkins, Lawrence A. Bon...  1,484,324  130.74  \n",
       "2    Mark Hamill, Harrison Ford, Carrie Fisher, Bil...  1,335,091  290.48  \n",
       "3    Tim Robbins, Morgan Freeman, Bob Gunton, Willi...  2,782,227   28.34  \n",
       "4    Jack Nicholson, Shelley Duvall, Danny Lloyd, S...  1,062,372   44.02  \n",
       "..                                                 ...        ...     ...  \n",
       "495  Jim Carrey, Renée Zellweger, Anthony Anderson,...    245,272   90.57  \n",
       "496  Owen Wilson, Adrien Brody, Jason Schwartzman, ...    210,002   11.90  \n",
       "497  Mark Wahlberg, Reese Witherspoon, William Pete...     51,735   20.75  \n",
       "498  Rose McGowan, Freddy Rodríguez, Josh Brolin, M...    218,327     NaN  \n",
       "499  Shauna Macdonald, Natalie Mendoza, Alex Reid, ...    236,286   26.02  \n",
       "\n",
       "[500 rows x 12 columns]"
      ]
     },
     "execution_count": 6,
     "metadata": {},
     "output_type": "execute_result"
    }
   ],
   "source": [
    "movies"
   ]
  },
  {
   "cell_type": "code",
   "execution_count": 7,
   "id": "36dd7083",
   "metadata": {},
   "outputs": [],
   "source": [
    "df=movies.copy()"
   ]
  },
  {
   "cell_type": "markdown",
   "id": "b2da2e2d",
   "metadata": {},
   "source": [
    " Droping unnamed column because it acts as a index but by default dataframe has index"
   ]
  },
  {
   "cell_type": "code",
   "execution_count": 8,
   "id": "8abd1b4c",
   "metadata": {},
   "outputs": [],
   "source": [
    "df.drop(\"Unnamed: 0\",axis=1,inplace=True)"
   ]
  },
  {
   "cell_type": "code",
   "execution_count": 9,
   "id": "416103bc",
   "metadata": {},
   "outputs": [
    {
     "data": {
      "text/html": [
       "<div>\n",
       "<style scoped>\n",
       "    .dataframe tbody tr th:only-of-type {\n",
       "        vertical-align: middle;\n",
       "    }\n",
       "\n",
       "    .dataframe tbody tr th {\n",
       "        vertical-align: top;\n",
       "    }\n",
       "\n",
       "    .dataframe thead th {\n",
       "        text-align: right;\n",
       "    }\n",
       "</style>\n",
       "<table border=\"1\" class=\"dataframe\">\n",
       "  <thead>\n",
       "    <tr style=\"text-align: right;\">\n",
       "      <th></th>\n",
       "      <th>Movie Name</th>\n",
       "      <th>Release year</th>\n",
       "      <th>Certificate</th>\n",
       "      <th>Runtime</th>\n",
       "      <th>Genre</th>\n",
       "      <th>Rating</th>\n",
       "      <th>Metascore</th>\n",
       "      <th>Directors</th>\n",
       "      <th>Stars</th>\n",
       "      <th>Votes</th>\n",
       "      <th>Gross</th>\n",
       "    </tr>\n",
       "  </thead>\n",
       "  <tbody>\n",
       "    <tr>\n",
       "      <th>0</th>\n",
       "      <td>The Godfather</td>\n",
       "      <td>1972.0</td>\n",
       "      <td>A</td>\n",
       "      <td>175</td>\n",
       "      <td>Crime, Drama</td>\n",
       "      <td>9.2</td>\n",
       "      <td>100.0</td>\n",
       "      <td>Francis Ford Coppola</td>\n",
       "      <td>Marlon Brando, Al Pacino, James Caan, Diane Ke...</td>\n",
       "      <td>1,937,188</td>\n",
       "      <td>134.97</td>\n",
       "    </tr>\n",
       "    <tr>\n",
       "      <th>1</th>\n",
       "      <td>The Silence of the Lambs</td>\n",
       "      <td>1991.0</td>\n",
       "      <td>A</td>\n",
       "      <td>118</td>\n",
       "      <td>Crime, Drama, Thriller</td>\n",
       "      <td>8.6</td>\n",
       "      <td>86.0</td>\n",
       "      <td>Jonathan Demme</td>\n",
       "      <td>Jodie Foster, Anthony Hopkins, Lawrence A. Bon...</td>\n",
       "      <td>1,484,324</td>\n",
       "      <td>130.74</td>\n",
       "    </tr>\n",
       "    <tr>\n",
       "      <th>2</th>\n",
       "      <td>Star Wars: Episode V - The Empire Strikes Back</td>\n",
       "      <td>1980.0</td>\n",
       "      <td>UA</td>\n",
       "      <td>124</td>\n",
       "      <td>Action, Adventure, Fantasy</td>\n",
       "      <td>8.7</td>\n",
       "      <td>82.0</td>\n",
       "      <td>Irvin Kershner</td>\n",
       "      <td>Mark Hamill, Harrison Ford, Carrie Fisher, Bil...</td>\n",
       "      <td>1,335,091</td>\n",
       "      <td>290.48</td>\n",
       "    </tr>\n",
       "    <tr>\n",
       "      <th>3</th>\n",
       "      <td>The Shawshank Redemption</td>\n",
       "      <td>1994.0</td>\n",
       "      <td>A</td>\n",
       "      <td>142</td>\n",
       "      <td>Drama</td>\n",
       "      <td>9.3</td>\n",
       "      <td>82.0</td>\n",
       "      <td>Frank Darabont</td>\n",
       "      <td>Tim Robbins, Morgan Freeman, Bob Gunton, Willi...</td>\n",
       "      <td>2,782,227</td>\n",
       "      <td>28.34</td>\n",
       "    </tr>\n",
       "    <tr>\n",
       "      <th>4</th>\n",
       "      <td>The Shining</td>\n",
       "      <td>1980.0</td>\n",
       "      <td>A</td>\n",
       "      <td>146</td>\n",
       "      <td>Drama, Horror</td>\n",
       "      <td>8.4</td>\n",
       "      <td>66.0</td>\n",
       "      <td>Stanley Kubrick</td>\n",
       "      <td>Jack Nicholson, Shelley Duvall, Danny Lloyd, S...</td>\n",
       "      <td>1,062,372</td>\n",
       "      <td>44.02</td>\n",
       "    </tr>\n",
       "  </tbody>\n",
       "</table>\n",
       "</div>"
      ],
      "text/plain": [
       "                                       Movie Name  Release year Certificate  \\\n",
       "0                                   The Godfather        1972.0           A   \n",
       "1                        The Silence of the Lambs        1991.0           A   \n",
       "2  Star Wars: Episode V - The Empire Strikes Back        1980.0          UA   \n",
       "3                        The Shawshank Redemption        1994.0           A   \n",
       "4                                     The Shining        1980.0           A   \n",
       "\n",
       "   Runtime                       Genre  Rating  Metascore  \\\n",
       "0      175                Crime, Drama     9.2      100.0   \n",
       "1      118      Crime, Drama, Thriller     8.6       86.0   \n",
       "2      124  Action, Adventure, Fantasy     8.7       82.0   \n",
       "3      142                       Drama     9.3       82.0   \n",
       "4      146               Drama, Horror     8.4       66.0   \n",
       "\n",
       "              Directors                                              Stars  \\\n",
       "0  Francis Ford Coppola  Marlon Brando, Al Pacino, James Caan, Diane Ke...   \n",
       "1        Jonathan Demme  Jodie Foster, Anthony Hopkins, Lawrence A. Bon...   \n",
       "2        Irvin Kershner  Mark Hamill, Harrison Ford, Carrie Fisher, Bil...   \n",
       "3        Frank Darabont  Tim Robbins, Morgan Freeman, Bob Gunton, Willi...   \n",
       "4       Stanley Kubrick  Jack Nicholson, Shelley Duvall, Danny Lloyd, S...   \n",
       "\n",
       "       Votes   Gross  \n",
       "0  1,937,188  134.97  \n",
       "1  1,484,324  130.74  \n",
       "2  1,335,091  290.48  \n",
       "3  2,782,227   28.34  \n",
       "4  1,062,372   44.02  "
      ]
     },
     "execution_count": 9,
     "metadata": {},
     "output_type": "execute_result"
    }
   ],
   "source": [
    "df.head()"
   ]
  },
  {
   "cell_type": "markdown",
   "id": "dd55dcd6",
   "metadata": {},
   "source": [
    "Head function returns the top n rows of a dataframe by default it returns top 5 rows"
   ]
  },
  {
   "cell_type": "code",
   "execution_count": 10,
   "id": "63695038",
   "metadata": {},
   "outputs": [
    {
     "data": {
      "text/plain": [
       "(500, 11)"
      ]
     },
     "execution_count": 10,
     "metadata": {},
     "output_type": "execute_result"
    }
   ],
   "source": [
    "df.shape"
   ]
  },
  {
   "cell_type": "markdown",
   "id": "fbb41e07",
   "metadata": {},
   "source": [
    "In this dataset there are 500 rows and 11 columns"
   ]
  },
  {
   "cell_type": "markdown",
   "id": "425afdac",
   "metadata": {},
   "source": [
    "#### Data cleaning"
   ]
  },
  {
   "cell_type": "code",
   "execution_count": 11,
   "id": "7a8ab4bc",
   "metadata": {
    "scrolled": true
   },
   "outputs": [
    {
     "name": "stdout",
     "output_type": "stream",
     "text": [
      "<class 'pandas.core.frame.DataFrame'>\n",
      "RangeIndex: 500 entries, 0 to 499\n",
      "Data columns (total 11 columns):\n",
      " #   Column        Non-Null Count  Dtype  \n",
      "---  ------        --------------  -----  \n",
      " 0   Movie Name    500 non-null    object \n",
      " 1   Release year  481 non-null    float64\n",
      " 2   Certificate   476 non-null    object \n",
      " 3   Runtime       500 non-null    int64  \n",
      " 4   Genre         500 non-null    object \n",
      " 5   Rating        500 non-null    float64\n",
      " 6   Metascore     491 non-null    float64\n",
      " 7   Directors     500 non-null    object \n",
      " 8   Stars         500 non-null    object \n",
      " 9   Votes         500 non-null    object \n",
      " 10  Gross         480 non-null    float64\n",
      "dtypes: float64(4), int64(1), object(6)\n",
      "memory usage: 43.1+ KB\n"
     ]
    }
   ],
   "source": [
    "df.info()"
   ]
  },
  {
   "cell_type": "markdown",
   "id": "e07fb305",
   "metadata": {},
   "source": [
    "In this dataset we have 500 datapoints which are nothing but rows and index range is from 0 to 499.\n",
    "\n",
    "Total data columns are 11.column names are 'Movie Name', 'Release year', 'Certificate', 'Runtime', 'Genre', 'Rating', 'Metascore', 'Directors', 'Stars', 'Votes', 'Gross'\n",
    "In that there are null values and there are different data types which should be changed."
   ]
  },
  {
   "cell_type": "code",
   "execution_count": 12,
   "id": "6687d268",
   "metadata": {},
   "outputs": [
    {
     "data": {
      "text/plain": [
       "Movie Name       0\n",
       "Release year    19\n",
       "Certificate     24\n",
       "Runtime          0\n",
       "Genre            0\n",
       "Rating           0\n",
       "Metascore        9\n",
       "Directors        0\n",
       "Stars            0\n",
       "Votes            0\n",
       "Gross           20\n",
       "dtype: int64"
      ]
     },
     "execution_count": 12,
     "metadata": {},
     "output_type": "execute_result"
    }
   ],
   "source": [
    "df.isnull().sum()"
   ]
  },
  {
   "cell_type": "markdown",
   "id": "c00e5972",
   "metadata": {},
   "source": [
    "There are 19 null values in Release Year column,24 null values in certificate column,9 null values in metascore column and 20 null values in gross column"
   ]
  },
  {
   "cell_type": "code",
   "execution_count": 13,
   "id": "0913dd94",
   "metadata": {},
   "outputs": [],
   "source": [
    "df[\"Certificate\"]=df[\"Certificate\"].fillna(\"Not Certified\")\n",
    "df[\"Metascore\"]=df[\"Metascore\"].fillna(0)\n",
    "df[\"Gross\"]=df[\"Gross\"].fillna(df[\"Gross\"].median())"
   ]
  },
  {
   "cell_type": "markdown",
   "id": "86a6eec1",
   "metadata": {},
   "source": [
    "fillna() is used to fill the null values"
   ]
  },
  {
   "cell_type": "code",
   "execution_count": 14,
   "id": "2f0eea19",
   "metadata": {},
   "outputs": [],
   "source": [
    "df.dropna(inplace=True)"
   ]
  },
  {
   "cell_type": "markdown",
   "id": "85c167b1",
   "metadata": {},
   "source": [
    "drona() is used to drop the null values"
   ]
  },
  {
   "cell_type": "code",
   "execution_count": 15,
   "id": "227be89b",
   "metadata": {},
   "outputs": [
    {
     "data": {
      "text/plain": [
       "Movie Name      0\n",
       "Release year    0\n",
       "Certificate     0\n",
       "Runtime         0\n",
       "Genre           0\n",
       "Rating          0\n",
       "Metascore       0\n",
       "Directors       0\n",
       "Stars           0\n",
       "Votes           0\n",
       "Gross           0\n",
       "dtype: int64"
      ]
     },
     "execution_count": 15,
     "metadata": {},
     "output_type": "execute_result"
    }
   ],
   "source": [
    "df.isnull().sum()"
   ]
  },
  {
   "cell_type": "code",
   "execution_count": 16,
   "id": "23da4037",
   "metadata": {},
   "outputs": [],
   "source": [
    "df[\"Votes\"]=df[\"Votes\"].str.replace(\",\",\"\")"
   ]
  },
  {
   "cell_type": "code",
   "execution_count": 17,
   "id": "272ebd08",
   "metadata": {},
   "outputs": [],
   "source": [
    "df[\"Runtime\"]=df[\"Runtime\"].astype(\"int\")\n",
    "df[\"Rating\"]=df[\"Rating\"].astype(\"float\")\n",
    "df[\"Metascore\"]=df[\"Metascore\"].astype(\"int\")\n",
    "df[\"Release year\"]=df[\"Release year\"].astype(\"int\")\n",
    "df[\"Votes\"]=df[\"Votes\"].astype(\"int\")\n",
    "df[\"Gross\"]=df[\"Gross\"].astype(\"float\")"
   ]
  },
  {
   "cell_type": "markdown",
   "id": "ee7dd3d1",
   "metadata": {},
   "source": [
    "To convert the dtype of columns astype is used."
   ]
  },
  {
   "cell_type": "markdown",
   "id": "ad435530",
   "metadata": {},
   "source": [
    "### Exploratory Data Analysis"
   ]
  },
  {
   "cell_type": "code",
   "execution_count": 18,
   "id": "5d50e5f8",
   "metadata": {},
   "outputs": [
    {
     "name": "stdout",
     "output_type": "stream",
     "text": [
      "<class 'pandas.core.frame.DataFrame'>\n",
      "Int64Index: 481 entries, 0 to 499\n",
      "Data columns (total 11 columns):\n",
      " #   Column        Non-Null Count  Dtype  \n",
      "---  ------        --------------  -----  \n",
      " 0   Movie Name    481 non-null    object \n",
      " 1   Release year  481 non-null    int32  \n",
      " 2   Certificate   481 non-null    object \n",
      " 3   Runtime       481 non-null    int32  \n",
      " 4   Genre         481 non-null    object \n",
      " 5   Rating        481 non-null    float64\n",
      " 6   Metascore     481 non-null    int32  \n",
      " 7   Directors     481 non-null    object \n",
      " 8   Stars         481 non-null    object \n",
      " 9   Votes         481 non-null    int32  \n",
      " 10  Gross         481 non-null    float64\n",
      "dtypes: float64(2), int32(4), object(5)\n",
      "memory usage: 37.6+ KB\n"
     ]
    }
   ],
   "source": [
    "df.info()"
   ]
  },
  {
   "cell_type": "markdown",
   "id": "5733f0ae",
   "metadata": {},
   "source": [
    "After filling and droping of null values there are 481 data points,11 columns and 0 null values."
   ]
  },
  {
   "cell_type": "code",
   "execution_count": 19,
   "id": "333d2a43",
   "metadata": {},
   "outputs": [
    {
     "data": {
      "text/plain": [
       "0"
      ]
     },
     "execution_count": 19,
     "metadata": {},
     "output_type": "execute_result"
    }
   ],
   "source": [
    "df.duplicated().sum()"
   ]
  },
  {
   "cell_type": "markdown",
   "id": "6c3f050a",
   "metadata": {},
   "source": [
    "There are no duplicates in this dataset."
   ]
  },
  {
   "cell_type": "code",
   "execution_count": 20,
   "id": "ae530ec9",
   "metadata": {},
   "outputs": [
    {
     "data": {
      "text/plain": [
       "Index(['Movie Name', 'Release year', 'Certificate', 'Runtime', 'Genre',\n",
       "       'Rating', 'Metascore', 'Directors', 'Stars', 'Votes', 'Gross'],\n",
       "      dtype='object')"
      ]
     },
     "execution_count": 20,
     "metadata": {},
     "output_type": "execute_result"
    }
   ],
   "source": [
    "df.columns"
   ]
  },
  {
   "cell_type": "markdown",
   "id": "951258d4",
   "metadata": {},
   "source": [
    "column attribute returns the column names from dataset"
   ]
  },
  {
   "cell_type": "code",
   "execution_count": 21,
   "id": "37b02297",
   "metadata": {},
   "outputs": [
    {
     "data": {
      "text/html": [
       "<div>\n",
       "<style scoped>\n",
       "    .dataframe tbody tr th:only-of-type {\n",
       "        vertical-align: middle;\n",
       "    }\n",
       "\n",
       "    .dataframe tbody tr th {\n",
       "        vertical-align: top;\n",
       "    }\n",
       "\n",
       "    .dataframe thead th {\n",
       "        text-align: right;\n",
       "    }\n",
       "</style>\n",
       "<table border=\"1\" class=\"dataframe\">\n",
       "  <thead>\n",
       "    <tr style=\"text-align: right;\">\n",
       "      <th></th>\n",
       "      <th>Release year</th>\n",
       "      <th>Runtime</th>\n",
       "      <th>Rating</th>\n",
       "      <th>Metascore</th>\n",
       "      <th>Votes</th>\n",
       "      <th>Gross</th>\n",
       "    </tr>\n",
       "  </thead>\n",
       "  <tbody>\n",
       "    <tr>\n",
       "      <th>count</th>\n",
       "      <td>481.000000</td>\n",
       "      <td>481.000000</td>\n",
       "      <td>481.000000</td>\n",
       "      <td>481.000000</td>\n",
       "      <td>4.810000e+02</td>\n",
       "      <td>481.000000</td>\n",
       "    </tr>\n",
       "    <tr>\n",
       "      <th>mean</th>\n",
       "      <td>1994.280665</td>\n",
       "      <td>124.033264</td>\n",
       "      <td>7.679002</td>\n",
       "      <td>72.390852</td>\n",
       "      <td>4.605637e+05</td>\n",
       "      <td>87.719272</td>\n",
       "    </tr>\n",
       "    <tr>\n",
       "      <th>std</th>\n",
       "      <td>16.721438</td>\n",
       "      <td>24.862181</td>\n",
       "      <td>0.592976</td>\n",
       "      <td>16.854804</td>\n",
       "      <td>4.561026e+05</td>\n",
       "      <td>108.463405</td>\n",
       "    </tr>\n",
       "    <tr>\n",
       "      <th>min</th>\n",
       "      <td>1931.000000</td>\n",
       "      <td>76.000000</td>\n",
       "      <td>5.600000</td>\n",
       "      <td>0.000000</td>\n",
       "      <td>8.150000e+02</td>\n",
       "      <td>0.010000</td>\n",
       "    </tr>\n",
       "    <tr>\n",
       "      <th>25%</th>\n",
       "      <td>1988.000000</td>\n",
       "      <td>106.000000</td>\n",
       "      <td>7.400000</td>\n",
       "      <td>63.000000</td>\n",
       "      <td>1.379220e+05</td>\n",
       "      <td>18.340000</td>\n",
       "    </tr>\n",
       "    <tr>\n",
       "      <th>50%</th>\n",
       "      <td>2000.000000</td>\n",
       "      <td>121.000000</td>\n",
       "      <td>7.700000</td>\n",
       "      <td>74.000000</td>\n",
       "      <td>3.041880e+05</td>\n",
       "      <td>52.630000</td>\n",
       "    </tr>\n",
       "    <tr>\n",
       "      <th>75%</th>\n",
       "      <td>2006.000000</td>\n",
       "      <td>137.000000</td>\n",
       "      <td>8.100000</td>\n",
       "      <td>84.000000</td>\n",
       "      <td>6.696550e+05</td>\n",
       "      <td>117.240000</td>\n",
       "    </tr>\n",
       "    <tr>\n",
       "      <th>max</th>\n",
       "      <td>2015.000000</td>\n",
       "      <td>238.000000</td>\n",
       "      <td>9.300000</td>\n",
       "      <td>100.000000</td>\n",
       "      <td>2.782227e+06</td>\n",
       "      <td>936.660000</td>\n",
       "    </tr>\n",
       "  </tbody>\n",
       "</table>\n",
       "</div>"
      ],
      "text/plain": [
       "       Release year     Runtime      Rating   Metascore         Votes  \\\n",
       "count    481.000000  481.000000  481.000000  481.000000  4.810000e+02   \n",
       "mean    1994.280665  124.033264    7.679002   72.390852  4.605637e+05   \n",
       "std       16.721438   24.862181    0.592976   16.854804  4.561026e+05   \n",
       "min     1931.000000   76.000000    5.600000    0.000000  8.150000e+02   \n",
       "25%     1988.000000  106.000000    7.400000   63.000000  1.379220e+05   \n",
       "50%     2000.000000  121.000000    7.700000   74.000000  3.041880e+05   \n",
       "75%     2006.000000  137.000000    8.100000   84.000000  6.696550e+05   \n",
       "max     2015.000000  238.000000    9.300000  100.000000  2.782227e+06   \n",
       "\n",
       "            Gross  \n",
       "count  481.000000  \n",
       "mean    87.719272  \n",
       "std    108.463405  \n",
       "min      0.010000  \n",
       "25%     18.340000  \n",
       "50%     52.630000  \n",
       "75%    117.240000  \n",
       "max    936.660000  "
      ]
     },
     "execution_count": 21,
     "metadata": {},
     "output_type": "execute_result"
    }
   ],
   "source": [
    "df.describe()"
   ]
  },
  {
   "cell_type": "markdown",
   "id": "2455e362",
   "metadata": {},
   "source": [
    "Describe Generate descriptive statistics. "
   ]
  },
  {
   "cell_type": "code",
   "execution_count": 22,
   "id": "6c2e8d13",
   "metadata": {},
   "outputs": [
    {
     "data": {
      "text/plain": [
       "Drama                           23\n",
       "Crime, Drama                    21\n",
       "Drama, Romance                  20\n",
       "Crime, Drama, Thriller          18\n",
       "Comedy, Drama, Romance          17\n",
       "                                ..\n",
       "Animation, Family, Fantasy       1\n",
       "Adventure, Drama, History        1\n",
       "Western                          1\n",
       "Adventure, Mystery, Thriller     1\n",
       "Adventure, Horror, Thriller      1\n",
       "Name: Genre, Length: 144, dtype: int64"
      ]
     },
     "execution_count": 22,
     "metadata": {},
     "output_type": "execute_result"
    }
   ],
   "source": [
    "genre=df[\"Genre\"].value_counts()\n",
    "genre"
   ]
  },
  {
   "cell_type": "code",
   "execution_count": 23,
   "id": "62cb1bb0",
   "metadata": {},
   "outputs": [
    {
     "data": {
      "image/png": "[encoded data removed]",
      "text/plain": [
       "<Figure size 720x360 with 1 Axes>"
      ]
     },
     "metadata": {
      "needs_background": "light"
     },
     "output_type": "display_data"
    }
   ],
   "source": [
    "movies = genre[0:10].index\n",
    "count = list(genre.iloc[:10])\n",
    "\n",
    "plt.figure(figsize=(10,5))\n",
    "plt.barh(movies,count)\n",
    "plt.ylabel(\"Most Popular Genres\")\n",
    "plt.xlabel(\"Popularity\")\n",
    "plt.title(\"Top 10 genres\",fontweight =\"bold\")\n",
    "plt.show()"
   ]
  },
  {
   "cell_type": "markdown",
   "id": "bf06fbf1",
   "metadata": {},
   "source": [
    "This plot shows the top 10 genres of movies.\n",
    "- Drama is the most popular genre\n",
    "- second popularity goes to crime,drama genre\n",
    "- and next drama,romance and follows\n",
    "\n",
    "These are the top three genres which has high popularity\n"
   ]
  },
  {
   "cell_type": "code",
   "execution_count": 24,
   "id": "e843692d",
   "metadata": {},
   "outputs": [
    {
     "data": {
      "text/plain": [
       "Steven Spielberg     12\n",
       "Martin Scorsese       9\n",
       "Peter Jackson         8\n",
       "Quentin Tarantino     8\n",
       "Christopher Nolan     8\n",
       "Alfred Hitchcock      7\n",
       "David Fincher         6\n",
       "James Cameron         6\n",
       "Ridley Scott          6\n",
       "Pedro Almodóvar       5\n",
       "Name: Directors, dtype: int64"
      ]
     },
     "execution_count": 24,
     "metadata": {},
     "output_type": "execute_result"
    }
   ],
   "source": [
    "df[\"Directors\"].value_counts().head(10)"
   ]
  },
  {
   "cell_type": "code",
   "execution_count": 25,
   "id": "b72f2ec6",
   "metadata": {},
   "outputs": [
    {
     "data": {
      "image/png": "[encoded data removed]",
      "text/plain": [
       "<Figure size 720x360 with 1 Axes>"
      ]
     },
     "metadata": {
      "needs_background": "light"
     },
     "output_type": "display_data"
    }
   ],
   "source": [
    "dire=df[\"Directors\"].value_counts().head(10).index\n",
    "count=df[\"Directors\"].value_counts().head(10).values\n",
    "\n",
    "plt.figure(figsize=(10,5))\n",
    "plt.barh(dire,count)\n",
    "plt.ylabel(\"Directors\")\n",
    "plt.xlabel(\"movies count\")\n",
    "plt.title(\"Top 10 Directors\",fontweight =\"bold\")\n",
    "plt.show()"
   ]
  },
  {
   "cell_type": "markdown",
   "id": "acbb1c04",
   "metadata": {},
   "source": [
    "This plot shows the top 10 directors of movies according to this data.\n",
    "\n",
    "- Steven Spielberg is top director where he directed 12 movies.\n",
    "- Martin Scorsese is the second top director where he directed 9 movies. \n",
    "- Peter jackson,Quentin Tarantino, are in the 3rd position where they directed 8 movies\n"
   ]
  },
  {
   "cell_type": "code",
   "execution_count": 26,
   "id": "f5823cf9",
   "metadata": {},
   "outputs": [
    {
     "name": "stderr",
     "output_type": "stream",
     "text": [
      "C:\\Users\\India\\anaconda3\\lib\\site-packages\\seaborn\\distributions.py:316: UserWarning: Dataset has 0 variance; skipping density estimate. Pass `warn_singular=False` to disable this warning.\n",
      "  warnings.warn(msg, UserWarning)\n",
      "C:\\Users\\India\\anaconda3\\lib\\site-packages\\seaborn\\distributions.py:316: UserWarning: Dataset has 0 variance; skipping density estimate. Pass `warn_singular=False` to disable this warning.\n",
      "  warnings.warn(msg, UserWarning)\n"
     ]
    },
    {
     "data": {
      "image/png": "[encoded data removed]",
      "text/plain": [
       "<Figure size 432x288 with 1 Axes>"
      ]
     },
     "metadata": {
      "needs_background": "light"
     },
     "output_type": "display_data"
    }
   ],
   "source": [
    "sns.kdeplot(x=df[\"Rating\"],hue=df[\"Certificate\"])\n",
    "plt.title(\"Top rated movies based on Certificates\",fontweight =\"bold\")\n",
    "plt.show()"
   ]
  },
  {
   "cell_type": "markdown",
   "id": "93041c3c",
   "metadata": {},
   "source": [
    "From the above kdeplot the density of top rated movies based on certificates is high for \"A\" certificate"
   ]
  },
  {
   "cell_type": "code",
   "execution_count": 27,
   "id": "d85f7c68",
   "metadata": {},
   "outputs": [],
   "source": [
    "gr=df.groupby(\"Gross\")[\"Movie Name\"].sum().sort_index(ascending=False).head(20)"
   ]
  },
  {
   "cell_type": "code",
   "execution_count": 28,
   "id": "630a3e12",
   "metadata": {},
   "outputs": [
    {
     "data": {
      "text/plain": [
       "Gross\n",
       "936.66           Star Wars: Episode VII - The Force Awakens\n",
       "760.51                                               Avatar\n",
       "659.33                                              Titanic\n",
       "534.86                                      The Dark Knight\n",
       "448.14                                The Dark Knight Rises\n",
       "435.11                           E.T. the Extra-Terrestrial\n",
       "424.67                      The Hunger Games: Catching Fire\n",
       "423.32           Pirates of the Caribbean: Dead Man's Chest\n",
       "422.78                                        The Lion King\n",
       "408.01                                     The Hunger Games\n",
       "402.45                                        Jurassic Park\n",
       "380.84                                         Finding Nemo\n",
       "380.26         Star Wars: Episode III - Revenge of the Sith\n",
       "377.85        The Lord of the Rings: The Return of the King\n",
       "373.59                                         Spider-Man 2\n",
       "342.55                The Lord of the Rings: The Two Towers\n",
       "330.25                                         Forrest Gump\n",
       "322.74                                            Star Wars\n",
       "318.41                                             Iron Man\n",
       "315.54    The Lord of the Rings: The Fellowship of the Ring\n",
       "Name: Movie Name, dtype: object"
      ]
     },
     "execution_count": 28,
     "metadata": {},
     "output_type": "execute_result"
    }
   ],
   "source": [
    "gr.sort_index(ascending=False)"
   ]
  },
  {
   "cell_type": "code",
   "execution_count": 29,
   "id": "a6fe5ac4",
   "metadata": {},
   "outputs": [
    {
     "data": {
      "image/png": "[encoded data removed]",
      "text/plain": [
       "<Figure size 720x360 with 1 Axes>"
      ]
     },
     "metadata": {
      "needs_background": "light"
     },
     "output_type": "display_data"
    }
   ],
   "source": [
    "plt.figure(figsize=(10,5))\n",
    "plt.barh(gr.values,gr.index)\n",
    "plt.ylabel(\"movie\")\n",
    "plt.xlabel(\"gross\")\n",
    "plt.title(\"Top 20 movies based on gross\",fontweight =\"bold\")\n",
    "plt.show()"
   ]
  },
  {
   "cell_type": "markdown",
   "id": "2a267552",
   "metadata": {},
   "source": [
    "From the above plot\n",
    "Star Wars: Episode VII - The Force Awakens has the highest gross and next Avatar movie has highest gross and then titanic "
   ]
  },
  {
   "cell_type": "code",
   "execution_count": 30,
   "id": "7b4a72a7",
   "metadata": {},
   "outputs": [
    {
     "data": {
      "text/plain": [
       "Gross\n",
       "936.66    Star Wars: Episode VII - The Force Awakens\n",
       "760.51                                        Avatar\n",
       "659.33                                       Titanic\n",
       "534.86                               The Dark Knight\n",
       "448.14                         The Dark Knight Rises\n",
       "Name: Movie Name, dtype: object"
      ]
     },
     "execution_count": 30,
     "metadata": {},
     "output_type": "execute_result"
    }
   ],
   "source": [
    "gr1=df.groupby(\"Gross\")[\"Movie Name\"].sum().sort_index(ascending=False).head(5)\n",
    "gr1"
   ]
  },
  {
   "cell_type": "code",
   "execution_count": 31,
   "id": "7c1da5ed",
   "metadata": {},
   "outputs": [
    {
     "data": {
      "image/png": "[encoded data removed]",
      "text/plain": [
       "<Figure size 432x288 with 1 Axes>"
      ]
     },
     "metadata": {},
     "output_type": "display_data"
    }
   ],
   "source": [
    "a=gr1.index\n",
    "b=gr1.values\n",
    "\n",
    "plt.pie(a,labels=b,autopct=\"%1.1f%%\",radius=1.1,textprops={\"fontsize\":10})\n",
    "plt.title('Top movies based on Gross',fontsize=16,fontweight =\"bold\")\n",
    "plt.tight_layout()\n",
    "plt.show()"
   ]
  },
  {
   "cell_type": "markdown",
   "id": "f136106e",
   "metadata": {},
   "source": [
    "From the above plot Star Wars: Episode VII - The Force Awakens has the highest gross and next Avatar movie has highest gross and then titanic"
   ]
  },
  {
   "cell_type": "code",
   "execution_count": 32,
   "id": "81a84f44",
   "metadata": {},
   "outputs": [],
   "source": [
    "gr2=df.groupby(\"Genre\")[\"Metascore\"].sum().sort_values(ascending=False).head(5)"
   ]
  },
  {
   "cell_type": "code",
   "execution_count": 33,
   "id": "f35e6cc0",
   "metadata": {},
   "outputs": [
    {
     "data": {
      "text/plain": [
       "(Index(['Drama', 'Crime, Drama', 'Drama, Romance', 'Comedy, Drama, Romance',\n",
       "        'Crime, Drama, Thriller'],\n",
       "       dtype='object', name='Genre'),\n",
       " array([1808, 1660, 1319, 1269, 1223]),\n",
       " Genre\n",
       " Drama                     1808\n",
       " Crime, Drama              1660\n",
       " Drama, Romance            1319\n",
       " Comedy, Drama, Romance    1269\n",
       " Crime, Drama, Thriller    1223\n",
       " Name: Metascore, dtype: int32)"
      ]
     },
     "execution_count": 33,
     "metadata": {},
     "output_type": "execute_result"
    }
   ],
   "source": [
    "a=gr2.index\n",
    "b=gr2.values\n",
    "a,b,gr2"
   ]
  },
  {
   "cell_type": "code",
   "execution_count": 34,
   "id": "65e8b2a9",
   "metadata": {},
   "outputs": [
    {
     "data": {
      "image/png": "[encoded data removed]",
      "text/plain": [
       "<Figure size 432x288 with 1 Axes>"
      ]
     },
     "metadata": {},
     "output_type": "display_data"
    }
   ],
   "source": [
    "plt.pie(b,labels=a,autopct=\"%1.1f%%\",radius=1.1,textprops={\"fontsize\":10})\n",
    "plt.title('Top genres based on metascore',fontsize=12,fontweight =\"bold\")\n",
    "plt.show()"
   ]
  },
  {
   "cell_type": "markdown",
   "id": "22d18f14",
   "metadata": {},
   "source": [
    "In genres Drama has the highest metascore comparing to other genres"
   ]
  },
  {
   "cell_type": "code",
   "execution_count": 35,
   "id": "d67d6c14",
   "metadata": {},
   "outputs": [
    {
     "data": {
      "text/plain": [
       "127    16\n",
       "101    12\n",
       "102    12\n",
       "120    12\n",
       "124    11\n",
       "       ..\n",
       "179     1\n",
       "195     1\n",
       "202     1\n",
       "201     1\n",
       "187     1\n",
       "Name: Runtime, Length: 103, dtype: int64"
      ]
     },
     "execution_count": 35,
     "metadata": {},
     "output_type": "execute_result"
    }
   ],
   "source": [
    "df[\"Runtime\"].value_counts()"
   ]
  },
  {
   "cell_type": "code",
   "execution_count": 36,
   "id": "4b41af77",
   "metadata": {},
   "outputs": [
    {
     "data": {
      "image/png": "[encoded data removed]",
      "text/plain": [
       "<Figure size 1440x720 with 1 Axes>"
      ]
     },
     "metadata": {
      "needs_background": "light"
     },
     "output_type": "display_data"
    }
   ],
   "source": [
    "plt.figure(figsize=(20,10))\n",
    "sns.countplot(x=df[\"Runtime\"])\n",
    "plt.xticks(rotation='vertical')\n",
    "plt.title('runtime of movies',fontsize=14, fontweight =\"bold\")\n",
    "plt.ylabel('Count',fontsize=12)                 \n",
    "plt.xlabel('Runtime in minutes',fontsize=12)\n",
    "plt.show()"
   ]
  },
  {
   "cell_type": "markdown",
   "id": "692c7c4a",
   "metadata": {},
   "source": [
    "Runtime of most of the movies is 127 minutes.And the minimum runtime of movie is 76 minutes and maximum runtime of movie is 238 minutes."
   ]
  },
  {
   "cell_type": "code",
   "execution_count": 37,
   "id": "ef241b48",
   "metadata": {},
   "outputs": [
    {
     "data": {
      "text/plain": [
       "array(['A', 'UA', 'U', 'R', 'G', 'Not Certified', '18', 'PG', '13',\n",
       "       'Not Rated', '15+', 'UA 16+', 'PG-13', 'All', '7', '12+',\n",
       "       'Unrated', '16'], dtype=object)"
      ]
     },
     "execution_count": 37,
     "metadata": {},
     "output_type": "execute_result"
    }
   ],
   "source": [
    "df[\"Certificate\"].unique()"
   ]
  },
  {
   "cell_type": "code",
   "execution_count": 38,
   "id": "2aae0b15",
   "metadata": {},
   "outputs": [
    {
     "data": {
      "text/plain": [
       "A                171\n",
       "UA               116\n",
       "U                 91\n",
       "R                 51\n",
       "Not Certified     24\n",
       "PG-13              5\n",
       "Not Rated          4\n",
       "18                 4\n",
       "13                 2\n",
       "15+                2\n",
       "UA 16+             2\n",
       "G                  2\n",
       "16                 2\n",
       "PG                 1\n",
       "All                1\n",
       "7                  1\n",
       "12+                1\n",
       "Unrated            1\n",
       "Name: Certificate, dtype: int64"
      ]
     },
     "execution_count": 38,
     "metadata": {},
     "output_type": "execute_result"
    }
   ],
   "source": [
    "df[\"Certificate\"].value_counts()"
   ]
  },
  {
   "cell_type": "code",
   "execution_count": 39,
   "id": "a54ffd2d",
   "metadata": {},
   "outputs": [
    {
     "data": {
      "image/png": "[encoded data removed]",
      "text/plain": [
       "<Figure size 720x360 with 1 Axes>"
      ]
     },
     "metadata": {
      "needs_background": "light"
     },
     "output_type": "display_data"
    }
   ],
   "source": [
    "plt.figure(figsize=(10,5))\n",
    "sns.countplot(x=df[\"Certificate\"])\n",
    "plt.xticks(rotation='vertical')\n",
    "plt.title('Count of Certificates',fontsize=14, fontweight =\"bold\")\n",
    "plt.ylabel('Count',fontsize=12)                 \n",
    "plt.xlabel('Certificates',fontsize=12)\n",
    "plt.show()"
   ]
  },
  {
   "cell_type": "markdown",
   "id": "85910525",
   "metadata": {},
   "source": [
    "From the above plot \"A\" certificated movies has the highest count compared to all other certificates"
   ]
  },
  {
   "cell_type": "code",
   "execution_count": 40,
   "id": "6cd54826",
   "metadata": {},
   "outputs": [],
   "source": [
    "gr4=df.groupby(\"Genre\")[\"Votes\"].sum().sort_values(ascending=False).head(5)"
   ]
  },
  {
   "cell_type": "code",
   "execution_count": 41,
   "id": "a1d428e4",
   "metadata": {},
   "outputs": [
    {
     "data": {
      "text/plain": [
       "Genre\n",
       "Action, Adventure, Sci-Fi     13153360\n",
       "Drama                         12794081\n",
       "Crime, Drama                  12344491\n",
       "Action, Adventure, Fantasy     9479045\n",
       "Action, Crime, Drama           8755065\n",
       "Name: Votes, dtype: int32"
      ]
     },
     "execution_count": 41,
     "metadata": {},
     "output_type": "execute_result"
    }
   ],
   "source": [
    "gr4"
   ]
  },
  {
   "cell_type": "code",
   "execution_count": 42,
   "id": "c333446b",
   "metadata": {},
   "outputs": [
    {
     "data": {
      "image/png": "[encoded data removed]",
      "text/plain": [
       "<Figure size 720x360 with 1 Axes>"
      ]
     },
     "metadata": {
      "needs_background": "light"
     },
     "output_type": "display_data"
    }
   ],
   "source": [
    "plt.figure(figsize=(10,5))\n",
    "plt.barh(gr4.index,gr4.values)\n",
    "plt.ylabel(\"Genres\")\n",
    "plt.xlabel(\"Votes\")\n",
    "plt.title(\"Top 5 Genres based on votes\",fontweight =\"bold\")\n",
    "plt.show()"
   ]
  },
  {
   "cell_type": "markdown",
   "id": "14b398af",
   "metadata": {},
   "source": [
    "From the above plot we can conlude that \"Action, Adventure, Sci-Fi\" genre movie has high votes follwed by \"Drama\"  and the followed by \"Crime, Drama\".         "
   ]
  },
  {
   "cell_type": "code",
   "execution_count": 43,
   "id": "534ae00a",
   "metadata": {},
   "outputs": [
    {
     "data": {
      "text/plain": [
       "Certificate\n",
       "A     86297510\n",
       "UA    71780107\n",
       "U     43595468\n",
       "R     10364659\n",
       "18     1803195\n",
       "Name: Votes, dtype: int32"
      ]
     },
     "execution_count": 43,
     "metadata": {},
     "output_type": "execute_result"
    }
   ],
   "source": [
    "gr7=df.groupby(\"Certificate\")[\"Votes\"].sum().sort_values(ascending=False).head()\n",
    "gr7"
   ]
  },
  {
   "cell_type": "code",
   "execution_count": 44,
   "id": "1d81ba24",
   "metadata": {},
   "outputs": [
    {
     "data": {
      "image/png": "[encoded data removed]",
      "text/plain": [
       "<Figure size 432x288 with 1 Axes>"
      ]
     },
     "metadata": {
      "needs_background": "light"
     },
     "output_type": "display_data"
    }
   ],
   "source": [
    "squarify.plot(sizes=gr7.values,label=gr7.index,pad=1)\n",
    "plt.title(\"Certificates having high votes\",fontweight =\"bold\")\n",
    "plt.show()"
   ]
  },
  {
   "cell_type": "markdown",
   "id": "c0296b83",
   "metadata": {},
   "source": [
    "compared to all other certifiates \"A\" certificate movie has highest votes"
   ]
  },
  {
   "cell_type": "code",
   "execution_count": 45,
   "id": "c1d3f01f",
   "metadata": {},
   "outputs": [
    {
     "data": {
      "text/plain": [
       "Certificate\n",
       "16           756536\n",
       "12+          743965\n",
       "PG-13        457583\n",
       "G            442134\n",
       "Not Rated    355870\n",
       "All          328714\n",
       "UA 16+       312374\n",
       "7            154267\n",
       "Unrated       73403\n",
       "PG            36854\n",
       "Name: Votes, dtype: int32"
      ]
     },
     "execution_count": 45,
     "metadata": {},
     "output_type": "execute_result"
    }
   ],
   "source": [
    "gr8=df.groupby(\"Certificate\")[\"Votes\"].sum().sort_values(ascending=False).tail(10)\n",
    "gr8"
   ]
  },
  {
   "cell_type": "code",
   "execution_count": 46,
   "id": "d5ffdaf7",
   "metadata": {},
   "outputs": [
    {
     "data": {
      "image/png": "[encoded data removed]",
      "text/plain": [
       "<Figure size 432x288 with 1 Axes>"
      ]
     },
     "metadata": {
      "needs_background": "light"
     },
     "output_type": "display_data"
    }
   ],
   "source": [
    "squarify.plot(sizes=gr8.values,label=gr8.index,pad=1)\n",
    "plt.title(\"Certificates having least votes\",fontweight =\"bold\")\n",
    "plt.show()"
   ]
  },
  {
   "cell_type": "markdown",
   "id": "1ee3dda1",
   "metadata": {},
   "source": [
    "compared to all other certificates \"PG\" certificate movie has lowest votes"
   ]
  },
  {
   "cell_type": "code",
   "execution_count": 47,
   "id": "9428c961",
   "metadata": {},
   "outputs": [
    {
     "data": {
      "text/plain": [
       "Certificate\n",
       "UA               15581.78\n",
       "A                12195.39\n",
       "U                11333.02\n",
       "R                 1048.97\n",
       "Not Certified      608.89\n",
       "Name: Gross, dtype: float64"
      ]
     },
     "execution_count": 47,
     "metadata": {},
     "output_type": "execute_result"
    }
   ],
   "source": [
    "gr9=df.groupby(\"Certificate\")[\"Gross\"].sum().sort_values(ascending=False).head()\n",
    "gr9"
   ]
  },
  {
   "cell_type": "code",
   "execution_count": 48,
   "id": "256ef1cb",
   "metadata": {},
   "outputs": [
    {
     "data": {
      "image/png": "[encoded data removed]",
      "text/plain": [
       "<Figure size 720x360 with 1 Axes>"
      ]
     },
     "metadata": {
      "needs_background": "light"
     },
     "output_type": "display_data"
    }
   ],
   "source": [
    "plt.figure(figsize=(10,5))\n",
    "plt.barh(gr9.index,gr9.values)\n",
    "plt.xlabel(\"Gross\")\n",
    "plt.ylabel(\"Certificates\")\n",
    "plt.title(\"Certificates having high gross\",fontweight =\"bold\")\n",
    "plt.show()"
   ]
  },
  {
   "cell_type": "markdown",
   "id": "36739962",
   "metadata": {},
   "source": [
    "when certificates are compared to gross \"UA\" certified movie has highest gross compare to all"
   ]
  },
  {
   "cell_type": "code",
   "execution_count": 49,
   "id": "91db3078",
   "metadata": {},
   "outputs": [
    {
     "data": {
      "text/plain": [
       "2000    23\n",
       "2004    23\n",
       "2001    23\n",
       "2005    20\n",
       "2002    19\n",
       "        ..\n",
       "1944     1\n",
       "1952     1\n",
       "1941     1\n",
       "1942     1\n",
       "1961     1\n",
       "Name: Release year, Length: 72, dtype: int64"
      ]
     },
     "execution_count": 49,
     "metadata": {},
     "output_type": "execute_result"
    }
   ],
   "source": [
    "df[\"Release year\"].value_counts()"
   ]
  },
  {
   "cell_type": "code",
   "execution_count": 50,
   "id": "15752f2e",
   "metadata": {},
   "outputs": [
    {
     "data": {
      "image/png": "[encoded data removed]",
      "text/plain": [
       "<Figure size 1440x720 with 1 Axes>"
      ]
     },
     "metadata": {
      "needs_background": "light"
     },
     "output_type": "display_data"
    }
   ],
   "source": [
    "plt.figure(figsize=(20,10))\n",
    "sns.countplot(x=df[\"Release year\"])\n",
    "plt.xticks(rotation='vertical')\n",
    "plt.title('count of movies released in particular years',fontsize=14, fontweight =\"bold\")\n",
    "plt.ylabel('Count',fontsize=12)                 \n",
    "plt.xlabel('Release year',fontsize=12)\n",
    "plt.show()"
   ]
  },
  {
   "cell_type": "markdown",
   "id": "31e728dc",
   "metadata": {},
   "source": [
    "2000,2001,2004 are the years where most of the movies are released in that years."
   ]
  },
  {
   "cell_type": "code",
   "execution_count": 51,
   "id": "55da2e46",
   "metadata": {},
   "outputs": [
    {
     "data": {
      "image/png": "[encoded data removed]",
      "text/plain": [
       "<Figure size 432x288 with 1 Axes>"
      ]
     },
     "metadata": {
      "needs_background": "light"
     },
     "output_type": "display_data"
    }
   ],
   "source": [
    "plt.hist(df[\"Rating\"],width=0.3)\n",
    "plt.title(\"count of movie ratings\",fontweight =\"bold\")\n",
    "plt.xlabel(\"Ratings\")\n",
    "plt.ylabel(\"Count\")\n",
    "plt.show()"
   ]
  },
  {
   "cell_type": "markdown",
   "id": "bc28dba4",
   "metadata": {},
   "source": [
    "most of the movies has ratings between 7.4 to 7.9 and less movies has highest rating of 9 to 9.3"
   ]
  },
  {
   "cell_type": "code",
   "execution_count": 52,
   "id": "c6e65fc4",
   "metadata": {},
   "outputs": [
    {
     "data": {
      "text/plain": [
       "Directors\n",
       "Steven Spielberg     96.2\n",
       "Martin Scorsese      72.2\n",
       "Christopher Nolan    67.2\n",
       "Quentin Tarantino    64.6\n",
       "Peter Jackson        64.3\n",
       "Alfred Hitchcock     57.0\n",
       "James Cameron        48.4\n",
       "David Fincher        48.4\n",
       "Ridley Scott         48.1\n",
       "Robert Zemeckis      39.5\n",
       "Name: Rating, dtype: float64"
      ]
     },
     "execution_count": 52,
     "metadata": {},
     "output_type": "execute_result"
    }
   ],
   "source": [
    "groupd=df.groupby(\"Directors\")[\"Rating\"].sum().sort_values(ascending=False)[:10]\n",
    "groupd"
   ]
  },
  {
   "cell_type": "code",
   "execution_count": 53,
   "id": "0e34bfec",
   "metadata": {},
   "outputs": [
    {
     "data": {
      "image/png": "[encoded data removed]",
      "text/plain": [
       "<Figure size 720x360 with 1 Axes>"
      ]
     },
     "metadata": {
      "needs_background": "light"
     },
     "output_type": "display_data"
    }
   ],
   "source": [
    "plt.figure(figsize=(10,5))\n",
    "plt.barh(groupd.index,groupd.values)\n",
    "plt.ylabel(\"Directors\")\n",
    "plt.xlabel(\"ratings\")\n",
    "plt.title(\"Top 10 Directors based on ratings\",fontweight =\"bold\")\n",
    "plt.show()"
   ]
  },
  {
   "cell_type": "markdown",
   "id": "41f8587d",
   "metadata": {},
   "source": [
    "This plot shows the top 10 directors based on ratings according to this data.\n",
    "\n",
    "Steven Spielberg is top director where he has highest rating\n",
    "followed by Martin Scorsese is the second top director and then followed by\n",
    " Christopher Nolan are in the top 3 positions based on their movie ratings."
   ]
  },
  {
   "cell_type": "code",
   "execution_count": 62,
   "id": "0140546b",
   "metadata": {},
   "outputs": [
    {
     "data": {
      "text/plain": [
       "Movie Name\n",
       "The Shawshank Redemption                         9.3\n",
       "The Godfather                                    9.2\n",
       "12 Angry Men                                     9.0\n",
       "The Lord of the Rings: The Return of the King    9.0\n",
       "Schindler's List                                 9.0\n",
       "The Godfather Part II                            9.0\n",
       "The Dark Knight                                  9.0\n",
       "Pulp Fiction                                     8.9\n",
       "Forrest Gump                                     8.8\n",
       "The Lord of the Rings: The Two Towers            8.8\n",
       "Name: Rating, dtype: float64"
      ]
     },
     "execution_count": 62,
     "metadata": {},
     "output_type": "execute_result"
    }
   ],
   "source": [
    "df.groupby(\"Movie Name\")[\"Rating\"].sum().sort_values(ascending=False)[:10]"
   ]
  },
  {
   "cell_type": "code",
   "execution_count": 54,
   "id": "337b56ca",
   "metadata": {},
   "outputs": [
    {
     "data": {
      "image/png": "[encoded data removed]",
      "text/plain": [
       "<Figure size 720x360 with 1 Axes>"
      ]
     },
     "metadata": {
      "needs_background": "light"
     },
     "output_type": "display_data"
    }
   ],
   "source": [
    "rate=df[\"Rating\"].head(10).values\n",
    "movie=df[\"Movie Name\"].head(10)\n",
    "\n",
    "plt.figure(figsize=(10,5))\n",
    "plt.barh(movie,rate)\n",
    "plt.ylabel(\"movies\")\n",
    "plt.xlabel(\"rating\")\n",
    "plt.title(\"Top 10 movies based on Ratings\",fontweight =\"bold\")\n",
    "plt.show()"
   ]
  },
  {
   "cell_type": "markdown",
   "id": "777aae28",
   "metadata": {},
   "source": [
    "The Shawshank Redemption is the top movie based on ratings and then The Godfather"
   ]
  },
  {
   "cell_type": "code",
   "execution_count": 55,
   "id": "74406f4b",
   "metadata": {},
   "outputs": [
    {
     "data": {
      "text/plain": [
       "Genre\n",
       "Drama                     185.1\n",
       "Crime, Drama              168.9\n",
       "Drama, Romance            148.6\n",
       "Crime, Drama, Thriller    137.8\n",
       "Comedy, Drama, Romance    129.4\n",
       "Name: Rating, dtype: float64"
      ]
     },
     "execution_count": 55,
     "metadata": {},
     "output_type": "execute_result"
    }
   ],
   "source": [
    "gr3=df.groupby(\"Genre\")[\"Rating\"].sum().sort_values(ascending=False).head(5)\n",
    "gr3"
   ]
  },
  {
   "cell_type": "code",
   "execution_count": 56,
   "id": "043acd83",
   "metadata": {},
   "outputs": [
    {
     "data": {
      "image/png": "[encoded data removed]",
      "text/plain": [
       "<Figure size 720x360 with 1 Axes>"
      ]
     },
     "metadata": {
      "needs_background": "light"
     },
     "output_type": "display_data"
    }
   ],
   "source": [
    "plt.figure(figsize=(10,5))\n",
    "plt.barh(gr3.index,gr3.values)\n",
    "plt.ylabel(\"Genres\")\n",
    "plt.xlabel(\"ratings\")\n",
    "plt.title(\"Top 5 Genres based on ratings\",fontweight =\"bold\")\n",
    "plt.show()"
   ]
  },
  {
   "cell_type": "markdown",
   "id": "7634d852",
   "metadata": {},
   "source": [
    "Top most genre based on ratings is \"Drama\" and then followed by Crime,Drama."
   ]
  },
  {
   "cell_type": "code",
   "execution_count": 57,
   "id": "d9d8389c",
   "metadata": {},
   "outputs": [
    {
     "data": {
      "text/plain": [
       "Certificate\n",
       "A                1315.6\n",
       "UA                894.4\n",
       "U                 717.6\n",
       "R                 377.3\n",
       "Not Certified     177.6\n",
       "Name: Rating, dtype: float64"
      ]
     },
     "execution_count": 57,
     "metadata": {},
     "output_type": "execute_result"
    }
   ],
   "source": [
    "gr5=df.groupby(\"Certificate\")[\"Rating\"].sum().sort_values(ascending=False).head()\n",
    "gr5"
   ]
  },
  {
   "cell_type": "code",
   "execution_count": 58,
   "id": "4730fb77",
   "metadata": {},
   "outputs": [
    {
     "data": {
      "image/png": "[encoded data removed]",
      "text/plain": [
       "<Figure size 432x288 with 1 Axes>"
      ]
     },
     "metadata": {
      "needs_background": "light"
     },
     "output_type": "display_data"
    }
   ],
   "source": [
    "squarify.plot(sizes=gr5.values,label=gr5.index,pad=1)\n",
    "plt.title(\"Certificates having high ratings\",fontweight =\"bold\")\n",
    "plt.show()"
   ]
  },
  {
   "cell_type": "markdown",
   "id": "b90449dc",
   "metadata": {},
   "source": [
    "\"A\" Certificated movies has highest ratings comparing to all other certified movies"
   ]
  },
  {
   "cell_type": "code",
   "execution_count": 59,
   "id": "a5cbda71",
   "metadata": {},
   "outputs": [
    {
     "data": {
      "text/plain": [
       "Certificate\n",
       "G          16.8\n",
       "13         16.1\n",
       "15+        15.9\n",
       "UA 16+     14.5\n",
       "16         13.8\n",
       "7           8.0\n",
       "PG          7.8\n",
       "Unrated     7.6\n",
       "All         7.6\n",
       "12+         7.4\n",
       "Name: Rating, dtype: float64"
      ]
     },
     "execution_count": 59,
     "metadata": {},
     "output_type": "execute_result"
    }
   ],
   "source": [
    "gr6=df.groupby(\"Certificate\")[\"Rating\"].sum().sort_values(ascending=False).tail(10)\n",
    "gr6"
   ]
  },
  {
   "cell_type": "code",
   "execution_count": 60,
   "id": "8c34e5a2",
   "metadata": {},
   "outputs": [
    {
     "data": {
      "image/png": "[encoded data removed]",
      "text/plain": [
       "<Figure size 432x288 with 1 Axes>"
      ]
     },
     "metadata": {
      "needs_background": "light"
     },
     "output_type": "display_data"
    }
   ],
   "source": [
    "squarify.plot(sizes=gr6.values,label=gr6.index,pad=1)\n",
    "plt.title(\"Certificates having least ratings\",fontweight =\"bold\")\n",
    "plt.show()"
   ]
  },
  {
   "cell_type": "markdown",
   "id": "8c12b0eb",
   "metadata": {},
   "source": [
    "12+ Certificates have the least rating compared to all"
   ]
  },
  {
   "cell_type": "markdown",
   "id": "ab4342cf",
   "metadata": {},
   "source": [
    "### Conclusion"
   ]
  },
  {
   "cell_type": "markdown",
   "id": "af1effe8",
   "metadata": {},
   "source": [
    "At last we conclude that: \n",
    "\n",
    "- Steven Spielberg is top director based on movie rating.\n",
    "- The Shawshank Redemption is the top movie based on rating.\n",
    "- Top most genre based on ratings is \"Drama\".\n",
    "- \"A\"Certificate movies had highest rating.\n",
    "- \"12+\" Certificate movies had least rating"
   ]
  },
  {
   "cell_type": "markdown",
   "id": "9e49c8eb",
   "metadata": {},
   "source": [
    "- \"Star Wars: Episode VII - The Force Awakens\" movie has the highest gross.\n",
    "- \"Drama\" is the genre which has the highest metascore.\n",
    "- most of the movies are \"A\" certified movies.\n",
    "- \"Action, Adventure, Sci-Fi\" is the genre which has high votes.\n",
    "- \"A\" certificate movies had highest votes.\n",
    "- \"PG\" certificate movie had lowest votes.\n",
    "- \"UA\" certified movies had highest gross.\n"
   ]
  },
  {
   "cell_type": "code",
   "execution_count": null,
   "id": "35d41fbb",
   "metadata": {},
   "outputs": [],
   "source": []
  }
 ],
 "metadata": {
  "kernelspec": {
   "display_name": "Python 3 (ipykernel)",
   "language": "python",
   "name": "python3"
  },
  "language_info": {
   "codemirror_mode": {
    "name": "ipython",
    "version": 3
   },
   "file_extension": ".py",
   "mimetype": "text/x-python",
   "name": "python",
   "nbconvert_exporter": "python",
   "pygments_lexer": "ipython3",
   "version": "3.9.12"
  }
 },
 "nbformat": 4,
 "nbformat_minor": 5
}
